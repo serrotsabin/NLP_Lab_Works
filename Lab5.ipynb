{
 "cells": [
  {
   "cell_type": "code",
   "execution_count": 1,
   "metadata": {},
   "outputs": [
    {
     "data": {
      "text/plain": [
       "{'last_letter': 'k'}"
      ]
     },
     "execution_count": 1,
     "metadata": {},
     "output_type": "execute_result"
    }
   ],
   "source": [
    "def gender_features(word):\n",
    "     return {'last_letter': word[-1]}\n",
    "gender_features('Shrek')"
   ]
  },
  {
   "cell_type": "code",
   "execution_count": 5,
   "metadata": {},
   "outputs": [
    {
     "name": "stdout",
     "output_type": "stream",
     "text": [
      "[nltk_data] Downloading package names to /Users/Charon/nltk_data...\n",
      "[nltk_data]   Unzipping corpora/names.zip.\n"
     ]
    }
   ],
   "source": [
    "import nltk\n",
    "from nltk.corpus import names\n",
    "nltk.download('names')\n",
    "labeled_names = ([(name, 'male') for name in names.words('male.txt')] + [(name, 'female') for name in names.words('female.txt')])\n",
    "import random\n",
    "random.shuffle(labeled_names)"
   ]
  },
  {
   "cell_type": "code",
   "execution_count": 6,
   "metadata": {
    "collapsed": true
   },
   "outputs": [],
   "source": [
    "featuresets = [(gender_features(n), gender) for (n, gender) in labeled_names]\n",
    "train_set, test_set = featuresets[500:], featuresets[:500]\n",
    "classifier = nltk.NaiveBayesClassifier.train(train_set)"
   ]
  },
  {
   "cell_type": "code",
   "execution_count": 7,
   "metadata": {},
   "outputs": [
    {
     "data": {
      "text/plain": [
       "'male'"
      ]
     },
     "execution_count": 7,
     "metadata": {},
     "output_type": "execute_result"
    }
   ],
   "source": [
    "classifier.classify(gender_features('Neo'))"
   ]
  },
  {
   "cell_type": "code",
   "execution_count": 8,
   "metadata": {},
   "outputs": [
    {
     "data": {
      "text/plain": [
       "'female'"
      ]
     },
     "execution_count": 8,
     "metadata": {},
     "output_type": "execute_result"
    }
   ],
   "source": [
    "classifier.classify(gender_features('Trinity'))"
   ]
  },
  {
   "cell_type": "code",
   "execution_count": 10,
   "metadata": {},
   "outputs": [
    {
     "name": "stdout",
     "output_type": "stream",
     "text": [
      "0.764\n"
     ]
    }
   ],
   "source": [
    "print(nltk.classify.accuracy(classifier, test_set))"
   ]
  },
  {
   "cell_type": "code",
   "execution_count": 11,
   "metadata": {},
   "outputs": [
    {
     "name": "stdout",
     "output_type": "stream",
     "text": [
      "Most Informative Features\n",
      "             last_letter = u'a'           female : male   =     34.8 : 1.0\n",
      "             last_letter = u'k'             male : female =     31.4 : 1.0\n",
      "             last_letter = u'f'             male : female =     17.1 : 1.0\n",
      "             last_letter = u'p'             male : female =     11.1 : 1.0\n",
      "             last_letter = u'd'             male : female =      9.9 : 1.0\n"
     ]
    }
   ],
   "source": [
    "classifier.show_most_informative_features(5)"
   ]
  },
  {
   "cell_type": "code",
   "execution_count": 12,
   "metadata": {
    "collapsed": true
   },
   "outputs": [],
   "source": [
    "from nltk.classify import apply_features\n",
    "train_set = apply_features(gender_features, labeled_names[500:])\n",
    "test_set = apply_features(gender_features, labeled_names[:500])"
   ]
  },
  {
   "cell_type": "code",
   "execution_count": 14,
   "metadata": {
    "collapsed": true
   },
   "outputs": [],
   "source": [
    "def gender_features2(name):\n",
    "    features = {}\n",
    "    features[\"first_letter\"] = name[0].lower()\n",
    "    features[\"last_letter\"] = name[-1].lower()\n",
    "    for letter in 'abcdefghijklmnopqrstuvwxyz':\n",
    "        features[\"count({})\".format(letter)] = name.lower().count(letter)\n",
    "        features[\"has({})\".format(letter)] = (letter in name.lower())\n",
    "    return features"
   ]
  },
  {
   "cell_type": "code",
   "execution_count": 17,
   "metadata": {},
   "outputs": [
    {
     "data": {
      "text/plain": [
       "{'count(a)': 0,\n",
       " 'count(b)': 0,\n",
       " 'count(c)': 0,\n",
       " 'count(d)': 0,\n",
       " 'count(e)': 0,\n",
       " 'count(f)': 0,\n",
       " 'count(g)': 0,\n",
       " 'count(h)': 1,\n",
       " 'count(i)': 0,\n",
       " 'count(j)': 1,\n",
       " 'count(k)': 0,\n",
       " 'count(l)': 0,\n",
       " 'count(m)': 0,\n",
       " 'count(n)': 1,\n",
       " 'count(o)': 1,\n",
       " 'count(p)': 0,\n",
       " 'count(q)': 0,\n",
       " 'count(r)': 0,\n",
       " 'count(s)': 0,\n",
       " 'count(t)': 0,\n",
       " 'count(u)': 0,\n",
       " 'count(v)': 0,\n",
       " 'count(w)': 0,\n",
       " 'count(x)': 0,\n",
       " 'count(y)': 0,\n",
       " 'count(z)': 0,\n",
       " 'first_letter': 'j',\n",
       " 'has(a)': False,\n",
       " 'has(b)': False,\n",
       " 'has(c)': False,\n",
       " 'has(d)': False,\n",
       " 'has(e)': False,\n",
       " 'has(f)': False,\n",
       " 'has(g)': False,\n",
       " 'has(h)': True,\n",
       " 'has(i)': False,\n",
       " 'has(j)': True,\n",
       " 'has(k)': False,\n",
       " 'has(l)': False,\n",
       " 'has(m)': False,\n",
       " 'has(n)': True,\n",
       " 'has(o)': True,\n",
       " 'has(p)': False,\n",
       " 'has(q)': False,\n",
       " 'has(r)': False,\n",
       " 'has(s)': False,\n",
       " 'has(t)': False,\n",
       " 'has(u)': False,\n",
       " 'has(v)': False,\n",
       " 'has(w)': False,\n",
       " 'has(x)': False,\n",
       " 'has(y)': False,\n",
       " 'has(z)': False,\n",
       " 'last_letter': 'n'}"
      ]
     },
     "execution_count": 17,
     "metadata": {},
     "output_type": "execute_result"
    }
   ],
   "source": [
    "gender_features2('John')"
   ]
  },
  {
   "cell_type": "code",
   "execution_count": 18,
   "metadata": {},
   "outputs": [
    {
     "name": "stdout",
     "output_type": "stream",
     "text": [
      "0.808\n"
     ]
    }
   ],
   "source": [
    "featuresets = [(gender_features2(n), gender) for (n, gender) in labeled_names]\n",
    "train_set, test_set = featuresets[500:], featuresets[:500]\n",
    "classifier = nltk.NaiveBayesClassifier.train(train_set)\n",
    "print(nltk.classify.accuracy(classifier, test_set))"
   ]
  },
  {
   "cell_type": "code",
   "execution_count": 19,
   "metadata": {
    "collapsed": true
   },
   "outputs": [],
   "source": [
    "train_names = labeled_names[1500:]\n",
    "devtest_names = labeled_names[500:1500]\n",
    "test_names = labeled_names[:500]"
   ]
  },
  {
   "cell_type": "code",
   "execution_count": 20,
   "metadata": {},
   "outputs": [
    {
     "name": "stdout",
     "output_type": "stream",
     "text": [
      "0.768\n"
     ]
    }
   ],
   "source": [
    "train_set = [(gender_features(n), gender) for (n, gender) in train_names]\n",
    "devtest_set = [(gender_features(n), gender) for (n, gender) in devtest_names]\n",
    "test_set = [(gender_features(n), gender) for (n, gender) in test_names]\n",
    "classifier = nltk.NaiveBayesClassifier.train(train_set)\n",
    "print(nltk.classify.accuracy(classifier, devtest_set))"
   ]
  },
  {
   "cell_type": "code",
   "execution_count": 21,
   "metadata": {
    "collapsed": true
   },
   "outputs": [],
   "source": [
    "errors = []\n",
    "for (name, tag) in devtest_names:\n",
    "     guess = classifier.classify(gender_features(name))\n",
    "     if guess != tag:\n",
    "         errors.append( (tag, guess, name) )\n"
   ]
  },
  {
   "cell_type": "code",
   "execution_count": 22,
   "metadata": {},
   "outputs": [
    {
     "name": "stdout",
     "output_type": "stream",
     "text": [
      "correct=female   guess=male     name=Adrian                        \n",
      "correct=female   guess=male     name=Agnes                         \n",
      "correct=female   guess=male     name=Alys                          \n",
      "correct=female   guess=male     name=Alyson                        \n",
      "correct=female   guess=male     name=Amabel                        \n",
      "correct=female   guess=male     name=Ardys                         \n",
      "correct=female   guess=male     name=Aurel                         \n",
      "correct=female   guess=male     name=Avril                         \n",
      "correct=female   guess=male     name=Beatriz                       \n",
      "correct=female   guess=male     name=Betteann                      \n",
      "correct=female   guess=male     name=Bev                           \n",
      "correct=female   guess=male     name=Bill                          \n",
      "correct=female   guess=male     name=Blair                         \n",
      "correct=female   guess=male     name=Caitrin                       \n",
      "correct=female   guess=male     name=Candis                        \n",
      "correct=female   guess=male     name=Caren                         \n",
      "correct=female   guess=male     name=Carin                         \n",
      "correct=female   guess=male     name=Carleen                       \n",
      "correct=female   guess=male     name=Carol                         \n",
      "correct=female   guess=male     name=Carroll                       \n",
      "correct=female   guess=male     name=Cherilyn                      \n",
      "correct=female   guess=male     name=Cherilynn                     \n",
      "correct=female   guess=male     name=Cheryl                        \n",
      "correct=female   guess=male     name=Christal                      \n",
      "correct=female   guess=male     name=Christean                     \n",
      "correct=female   guess=male     name=Claribel                      \n",
      "correct=female   guess=male     name=Colleen                       \n",
      "correct=female   guess=male     name=Con                           \n",
      "correct=female   guess=male     name=Corabel                       \n",
      "correct=female   guess=male     name=Dael                          \n",
      "correct=female   guess=male     name=Darleen                       \n",
      "correct=female   guess=male     name=Delores                       \n",
      "correct=female   guess=male     name=Denys                         \n",
      "correct=female   guess=male     name=Doll                          \n",
      "correct=female   guess=male     name=Dolores                       \n",
      "correct=female   guess=male     name=Dyan                          \n",
      "correct=female   guess=male     name=Dyann                         \n",
      "correct=female   guess=male     name=Ealasaid                      \n",
      "correct=female   guess=male     name=Easter                        \n",
      "correct=female   guess=male     name=Eleanor                       \n",
      "correct=female   guess=male     name=Estel                         \n",
      "correct=female   guess=male     name=Farand                        \n",
      "correct=female   guess=male     name=Floris                        \n",
      "correct=female   guess=male     name=Fran                          \n",
      "correct=female   guess=male     name=Ginnifer                      \n",
      "correct=female   guess=male     name=Gretal                        \n",
      "correct=female   guess=male     name=Gretel                        \n",
      "correct=female   guess=male     name=Heather                       \n",
      "correct=female   guess=male     name=Ingaborg                      \n",
      "correct=female   guess=male     name=Isador                        \n",
      "correct=female   guess=male     name=Iseabal                       \n",
      "correct=female   guess=male     name=Jenifer                       \n",
      "correct=female   guess=male     name=Jess                          \n",
      "correct=female   guess=male     name=Joan                          \n",
      "correct=female   guess=male     name=Joannes                       \n",
      "correct=female   guess=male     name=Joell                         \n",
      "correct=female   guess=male     name=Joleen                        \n",
      "correct=female   guess=male     name=Jordain                       \n",
      "correct=female   guess=male     name=Joscelin                      \n",
      "correct=female   guess=male     name=Joyous                        \n",
      "correct=female   guess=male     name=Karleen                       \n",
      "correct=female   guess=male     name=Karlen                        \n",
      "correct=female   guess=male     name=Kass                          \n",
      "correct=female   guess=male     name=Katleen                       \n",
      "correct=female   guess=male     name=Kaylyn                        \n",
      "correct=female   guess=male     name=Keriann                       \n",
      "correct=female   guess=male     name=Kerrill                       \n",
      "correct=female   guess=male     name=Kiersten                      \n",
      "correct=female   guess=male     name=Kristal                       \n",
      "correct=female   guess=male     name=Kylynn                        \n",
      "correct=female   guess=male     name=Lois                          \n",
      "correct=female   guess=male     name=Lorain                        \n",
      "correct=female   guess=male     name=Madel                         \n",
      "correct=female   guess=male     name=Madlen                        \n",
      "correct=female   guess=male     name=Mair                          \n",
      "correct=female   guess=male     name=Mariel                        \n",
      "correct=female   guess=male     name=Marigold                      \n",
      "correct=female   guess=male     name=Maryann                       \n",
      "correct=female   guess=male     name=Maureen                       \n",
      "correct=female   guess=male     name=Mavis                         \n",
      "correct=female   guess=male     name=Meagan                        \n",
      "correct=female   guess=male     name=Megan                         \n",
      "correct=female   guess=male     name=Megen                         \n",
      "correct=female   guess=male     name=Mehetabel                     \n",
      "correct=female   guess=male     name=Mel                           \n",
      "correct=female   guess=male     name=Meryl                         \n",
      "correct=female   guess=male     name=Millicent                     \n",
      "correct=female   guess=male     name=Morgen                        \n",
      "correct=female   guess=male     name=Nadeen                        \n",
      "correct=female   guess=male     name=Nert                          \n",
      "correct=female   guess=male     name=Nichol                        \n",
      "correct=female   guess=male     name=Pat                           \n",
      "correct=female   guess=male     name=Pegeen                        \n",
      "correct=female   guess=male     name=Philis                        \n",
      "correct=female   guess=male     name=Pris                          \n",
      "correct=female   guess=male     name=Raynell                       \n",
      "correct=female   guess=male     name=Rianon                        \n",
      "correct=female   guess=male     name=Robbin                        \n",
      "correct=female   guess=male     name=Rochell                       \n",
      "correct=female   guess=male     name=Shaylynn                      \n",
      "correct=female   guess=male     name=Sheril                        \n",
      "correct=female   guess=male     name=Sheryl                        \n",
      "correct=female   guess=male     name=Sigrid                        \n",
      "correct=female   guess=male     name=Sybil                         \n",
      "correct=female   guess=male     name=Theo                          \n",
      "correct=female   guess=male     name=Tim                           \n",
      "correct=female   guess=male     name=Vin                           \n",
      "correct=female   guess=male     name=Wynn                          \n",
      "correct=female   guess=male     name=Yehudit                       \n",
      "correct=male     guess=female   name=Ace                           \n",
      "correct=male     guess=female   name=Ajay                          \n",
      "correct=male     guess=female   name=Ambrose                       \n",
      "correct=male     guess=female   name=Andre                         \n",
      "correct=male     guess=female   name=Andrea                        \n",
      "correct=male     guess=female   name=Andrej                        \n",
      "correct=male     guess=female   name=Antony                        \n",
      "correct=male     guess=female   name=Ari                           \n",
      "correct=male     guess=female   name=Ave                           \n",
      "correct=male     guess=female   name=Barth                         \n",
      "correct=male     guess=female   name=Bealle                        \n",
      "correct=male     guess=female   name=Bennie                        \n",
      "correct=male     guess=female   name=Billy                         \n",
      "correct=male     guess=female   name=Bobbie                        \n",
      "correct=male     guess=female   name=Boyce                         \n",
      "correct=male     guess=female   name=Broddie                       \n",
      "correct=male     guess=female   name=Carleigh                      \n",
      "correct=male     guess=female   name=Chase                         \n",
      "correct=male     guess=female   name=Chauncey                      \n",
      "correct=male     guess=female   name=Che                           \n",
      "correct=male     guess=female   name=Chrisy                        \n",
      "correct=male     guess=female   name=Clarance                      \n",
      "correct=male     guess=female   name=Clayborne                     \n",
      "correct=male     guess=female   name=Cory                          \n",
      "correct=male     guess=female   name=Curtice                       \n",
      "correct=male     guess=female   name=Dani                          \n",
      "correct=male     guess=female   name=Dante                         \n",
      "correct=male     guess=female   name=Davie                         \n",
      "correct=male     guess=female   name=Deane                         \n",
      "correct=male     guess=female   name=Derby                         \n",
      "correct=male     guess=female   name=Dmitri                        \n",
      "correct=male     guess=female   name=Durante                       \n",
      "correct=male     guess=female   name=Eddie                         \n",
      "correct=male     guess=female   name=Emmery                        \n",
      "correct=male     guess=female   name=Erich                         \n",
      "correct=male     guess=female   name=Felice                        \n",
      "correct=male     guess=female   name=Felix                         \n",
      "correct=male     guess=female   name=Fletch                        \n",
      "correct=male     guess=female   name=Freddie                       \n",
      "correct=male     guess=female   name=Garvy                         \n",
      "correct=male     guess=female   name=George                        \n",
      "correct=male     guess=female   name=Georgy                        \n",
      "correct=male     guess=female   name=Grady                         \n",
      "correct=male     guess=female   name=Granville                     \n",
      "correct=male     guess=female   name=Grove                         \n",
      "correct=male     guess=female   name=Hadley                        \n",
      "correct=male     guess=female   name=Hasty                         \n",
      "correct=male     guess=female   name=Henrie                        \n",
      "correct=male     guess=female   name=Henry                         \n",
      "correct=male     guess=female   name=Hercule                       \n",
      "correct=male     guess=female   name=Hermy                         \n",
      "correct=male     guess=female   name=Jeffrey                       \n",
      "correct=male     guess=female   name=Jeramie                       \n",
      "correct=male     guess=female   name=Joe                           \n",
      "correct=male     guess=female   name=Johny                         \n",
      "correct=male     guess=female   name=Jonah                         \n",
      "correct=male     guess=female   name=Joshua                        \n",
      "correct=male     guess=female   name=Joshuah                       \n",
      "correct=male     guess=female   name=Julie                         \n",
      "correct=male     guess=female   name=Kerry                         \n",
      "correct=male     guess=female   name=Lawrence                      \n",
      "correct=male     guess=female   name=Lay                           \n",
      "correct=male     guess=female   name=Lemmie                        \n",
      "correct=male     guess=female   name=Levy                          \n",
      "correct=male     guess=female   name=Lindsay                       \n",
      "correct=male     guess=female   name=Lonnie                        \n",
      "correct=male     guess=female   name=Luigi                         \n",
      "correct=male     guess=female   name=Lyle                          \n",
      "correct=male     guess=female   name=Michele                       \n",
      "correct=male     guess=female   name=Monty                         \n",
      "correct=male     guess=female   name=Mordecai                      \n",
      "correct=male     guess=female   name=Murdoch                       \n",
      "correct=male     guess=female   name=Neale                         \n",
      "correct=male     guess=female   name=Neddy                         \n",
      "correct=male     guess=female   name=Neville                       \n",
      "correct=male     guess=female   name=Nickey                        \n",
      "correct=male     guess=female   name=Nikita                        \n",
      "correct=male     guess=female   name=Noah                          \n",
      "correct=male     guess=female   name=Obadiah                       \n",
      "correct=male     guess=female   name=Ozzie                         \n",
      "correct=male     guess=female   name=Ozzy                          \n",
      "correct=male     guess=female   name=Paddie                        \n",
      "correct=male     guess=female   name=Paige                         \n",
      "correct=male     guess=female   name=Patrice                       \n",
      "correct=male     guess=female   name=Pete                          \n",
      "correct=male     guess=female   name=Prince                        \n",
      "correct=male     guess=female   name=Rabi                          \n",
      "correct=male     guess=female   name=Raj                           \n",
      "correct=male     guess=female   name=Reggy                         \n",
      "correct=male     guess=female   name=Rene                          \n",
      "correct=male     guess=female   name=Riley                         \n",
      "correct=male     guess=female   name=Roddy                         \n",
      "correct=male     guess=female   name=Roy                           \n",
      "correct=male     guess=female   name=Royce                         \n",
      "correct=male     guess=female   name=Rube                          \n",
      "correct=male     guess=female   name=Rufe                          \n",
      "correct=male     guess=female   name=Rusty                         \n",
      "correct=male     guess=female   name=Sansone                       \n",
      "correct=male     guess=female   name=Sawyere                       \n",
      "correct=male     guess=female   name=Scotti                        \n",
      "correct=male     guess=female   name=Scotty                        \n",
      "correct=male     guess=female   name=Serge                         \n",
      "correct=male     guess=female   name=Skippy                        \n",
      "correct=male     guess=female   name=Sonny                         \n",
      "correct=male     guess=female   name=Spense                        \n",
      "correct=male     guess=female   name=Stearne                       \n",
      "correct=male     guess=female   name=Tabby                         \n",
      "correct=male     guess=female   name=Tammy                         \n",
      "correct=male     guess=female   name=Terrance                      \n",
      "correct=male     guess=female   name=Toby                          \n",
      "correct=male     guess=female   name=Toddy                         \n",
      "correct=male     guess=female   name=Trace                         \n",
      "correct=male     guess=female   name=Tulley                        \n",
      "correct=male     guess=female   name=Voltaire                      \n",
      "correct=male     guess=female   name=Way                           \n",
      "correct=male     guess=female   name=Welbie                        \n",
      "correct=male     guess=female   name=Wesley                        \n",
      "correct=male     guess=female   name=Wiley                         \n",
      "correct=male     guess=female   name=Willy                         \n",
      "correct=male     guess=female   name=Witty                         \n",
      "correct=male     guess=female   name=Wylie                         \n",
      "correct=male     guess=female   name=Zachary                       \n",
      "correct=male     guess=female   name=Zebedee                       \n"
     ]
    }
   ],
   "source": [
    "for (tag, guess, name) in sorted(errors):\n",
    "     print('correct={:<8} guess={:<8s} name={:<30}'.format(tag, guess, name))"
   ]
  },
  {
   "cell_type": "code",
   "execution_count": 23,
   "metadata": {
    "collapsed": true
   },
   "outputs": [],
   "source": [
    "def gender_features(word):\n",
    "     return {'suffix1': word[-1:], 'suffix2': word[-2:]}"
   ]
  },
  {
   "cell_type": "code",
   "execution_count": 24,
   "metadata": {},
   "outputs": [
    {
     "name": "stdout",
     "output_type": "stream",
     "text": [
      "0.758\n"
     ]
    }
   ],
   "source": [
    "train_set = [(gender_features(n), gender) for (n, gender) in train_names]\n",
    "devtest_set = [(gender_features(n), gender) for (n, gender) in devtest_names]\n",
    "classifier = nltk.NaiveBayesClassifier.train(train_set)\n",
    "print(nltk.classify.accuracy(classifier, devtest_set))"
   ]
  },
  {
   "cell_type": "code",
   "execution_count": 26,
   "metadata": {},
   "outputs": [
    {
     "name": "stdout",
     "output_type": "stream",
     "text": [
      "[nltk_data] Downloading package movie_reviews to\n",
      "[nltk_data]     /Users/Charon/nltk_data...\n",
      "[nltk_data]   Unzipping corpora/movie_reviews.zip.\n"
     ]
    }
   ],
   "source": [
    "from nltk.corpus import movie_reviews\n",
    "nltk.download('movie_reviews')\n",
    "documents = [(list(movie_reviews.words(fileid)), category)\n",
    "              for category in movie_reviews.categories()\n",
    "              for fileid in movie_reviews.fileids(category)]\n",
    "random.shuffle(documents)\n"
   ]
  },
  {
   "cell_type": "code",
   "execution_count": 28,
   "metadata": {
    "collapsed": true
   },
   "outputs": [],
   "source": [
    "all_words = nltk.FreqDist(w.lower() for w in movie_reviews.words())\n",
    "word_features = list(all_words)[:2000] \n",
    "\n",
    "def document_features(document): \n",
    "    document_words = set(document)\n",
    "    features = {}\n",
    "    for word in word_features:\n",
    "        features['contains({})'.format(word)] = (word in document_words)\n",
    "    return features"
   ]
  },
  {
   "cell_type": "code",
   "execution_count": 29,
   "metadata": {},
   "outputs": [
    {
     "name": "stdout",
     "output_type": "stream",
     "text": [
      "{'contains(corporate)': False, 'contains(barred)': False, 'contains(batmans)': False, 'contains(menacing)': False, 'contains(rags)': False, 'contains(inquires)': False, 'contains(nosebleeding)': False, 'contains(playhouse)': False, 'contains(peculiarities)': False, 'contains(kilgore)': False, 'contains(tarnish)': False, 'contains(sand)': False, 'contains(busting)': False, 'contains(wedge)': False, 'contains(smelling)': False, 'contains(tulip)': False, 'contains(singled)': False, 'contains(wahlberg)': False, 'contains(needed)': False, 'contains(lydia)': False, 'contains(rick)': False, 'contains(cambodia)': False, 'contains(outfielders)': False, 'contains(jovivich)': False, 'contains(pinon)': False, 'contains(fix)': False, 'contains(marla)': False, 'contains(resources)': False, 'contains(nomi)': False, 'contains(irs)': False, 'contains(mason)': False, 'contains(vicariously)': False, 'contains(ingrained)': False, 'contains(skepticism)': False, 'contains(tested)': False, 'contains(spat)': False, 'contains(nfeatured)': False, 'contains(accomplishes)': False, 'contains(sierra)': False, 'contains(lunges)': False, 'contains(telefixated)': False, 'contains(wednesday)': False, 'contains(spiders)': False, 'contains(waft)': False, 'contains(jim)': False, 'contains(cinematic)': False, 'contains(pseudonymous)': False, 'contains(troubles)': False, 'contains(dimension)': False, 'contains(cassette)': False, 'contains(corsucant)': False, 'contains(absolute)': False, 'contains(harmonious)': False, 'contains(saying)': False, 'contains(misdemeanors)': False, 'contains(prodigious)': False, 'contains(reclining)': False, 'contains(loudness)': False, 'contains(lombard)': False, 'contains(sickening)': False, 'contains(cooking)': False, 'contains(oprah)': False, 'contains(platt)': False, 'contains(rolf)': False, 'contains(episodes)': False, 'contains(derivative)': False, 'contains(receipt)': False, 'contains(impactful)': False, 'contains(fonzie)': False, 'contains(chyron)': False, 'contains(dragonflies)': False, 'contains(ugliness)': False, 'contains(sauce)': False, 'contains(crossroads)': False, 'contains(paired)': False, 'contains(tomei)': False, 'contains(hounds)': False, 'contains(marshmallows)': False, 'contains(lick)': False, 'contains(hass)': False, 'contains(surges)': False, 'contains(watched)': False, 'contains(ivey)': False, 'contains(nuez)': False, 'contains(mentors)': False, 'contains(tricky)': False, 'contains(surveying)': False, 'contains(ditching)': False, 'contains(haystack)': False, 'contains(warriors)': False, 'contains(purged)': False, 'contains(rehabilitation)': False, 'contains(petitions)': False, 'contains(bogs)': False, 'contains(absense)': False, 'contains(courtesans)': False, 'contains(followed)': False, 'contains(har)': False, 'contains(anthesis)': False, 'contains(grotesqe)': False, 'contains(_i_know_what_you_did_last_summer_)': False, 'contains(survey)': False, 'contains(bartok)': False, 'contains(thivisol)': False, 'contains(exponential)': False, 'contains(birdie)': False, 'contains(cincinnati)': False, 'contains(unthrilling)': False, 'contains(balsan)': False, 'contains(bumming)': False, 'contains(celebrated)': False, 'contains(renovated)': False, 'contains(crowd)': False, 'contains(shows)': False, 'contains(lana)': False, 'contains(haskin)': False, 'contains(despite)': False, 'contains(scharzenegger)': False, 'contains(undergone)': False, 'contains(aissa)': False, 'contains(leit)': False, 'contains(mouth)': False, 'contains(demeaning)': False, 'contains(drilling)': False, 'contains(unsworth)': False, 'contains(bannister)': False, 'contains(wiseguy)': False, 'contains(lackies)': False, 'contains(norville)': False, 'contains(dampens)': False, 'contains(satisfactory)': False, 'contains(abuser)': False, 'contains(had)': False, 'contains(nature)': False, 'contains(awake)': False, 'contains(wiseguys)': False, 'contains(cerebrally)': False, 'contains(ballisitic)': False, 'contains(trauma)': False, 'contains(geography)': False, 'contains(genieveve)': False, 'contains(leeanne)': False, 'contains(cannibal)': False, 'contains(intoxicating)': False, 'contains(olds)': False, 'contains(tastefully)': False, 'contains(defy)': False, 'contains(drafted)': False, 'contains(strums)': False, 'contains(dilemnas)': False, 'contains(amoeba)': False, 'contains(assimilation)': False, 'contains(reprisal)': False, 'contains(janusz)': False, 'contains(leonardi)': False, 'contains(procures)': False, 'contains(canoeing)': False, 'contains(emergence)': False, 'contains(diving)': False, 'contains(aatish)': False, 'contains(masturbatory)': False, 'contains(peaceably)': False, 'contains(persistently)': False, 'contains(survival)': False, 'contains(portrays)': False, 'contains(ceasing)': False, 'contains(bubble)': False, 'contains(sonja)': False, 'contains(unarguably)': False, 'contains(unbuttoning)': False, 'contains(jessalyn)': False, 'contains(windmill)': False, 'contains(longs)': False, 'contains(baby)': False, 'contains(mute)': False, 'contains(sikh)': False, 'contains(nicely)': False, 'contains(burial)': False, 'contains(formed)': False, 'contains(locket)': False, 'contains(frizzy)': False, 'contains(darnell)': False, 'contains(outraging)': False, 'contains(politicos)': False, 'contains(2293)': False, 'contains(devoured)': False, 'contains(universality)': False, 'contains(didn)': False, 'contains(perpetrator)': False, 'contains(thats)': False, 'contains(dethroned)': False, 'contains(malintentioned)': False, 'contains(insubordinate)': False, 'contains(humpback)': False, 'contains(meditative)': False, 'contains(pimply)': False, 'contains(tyranny)': False, 'contains(loyalties)': False, 'contains(humbler)': False, 'contains(kindergartner)': False, 'contains(suitcases)': False, 'contains(grope)': False, 'contains(touts)': False, 'contains(advertisement)': False, 'contains(shirts)': False, 'contains(videodrome)': False, 'contains(eggar)': False, 'contains(portillo)': False, 'contains(macht)': False, 'contains(perishes)': False, 'contains(preference)': False, 'contains(pell)': False, 'contains(moniker)': False, 'contains(fakery)': False, 'contains(edouard)': False, 'contains(aughra)': False, 'contains(foregrounds)': False, 'contains(snobbish)': False, 'contains(printed)': False, 'contains(dispite)': False, 'contains(pulled)': False, 'contains(russ)': False, 'contains(admires)': False, 'contains(hurricaine)': False, 'contains(milked)': False, 'contains(master)': False, 'contains(spurting)': False, 'contains(oversimplified)': False, 'contains(overlord)': False, 'contains(goody)': False, 'contains(has)': True, 'contains(pringles)': False, 'contains(celebrates)': False, 'contains(domed)': False, 'contains(wrinkles)': False, 'contains(abandons)': False, 'contains(solaris)': False, 'contains(clumsiness)': False, 'contains(deductions)': False, 'contains(sugarplums)': False, 'contains(lombardo)': False, 'contains(humbled)': False, 'contains(beware)': False, 'contains(antichrist)': False, 'contains(cavity)': False, 'contains(anthropologists)': False, 'contains(typicalness)': False, 'contains(crowe)': False, 'contains(scramble)': False, 'contains(stoically)': False, 'contains(tanker)': False, 'contains(thanking)': False, 'contains(brunette)': False, 'contains(retells)': False, 'contains(rudnick)': False, 'contains(sidebars)': False, 'contains(interviewed)': False, 'contains(greenwald)': False, 'contains(brutally)': False, 'contains(misconstrued)': False, 'contains(piscapo)': False, 'contains(vocalized)': False, 'contains(negg)': False, 'contains(benigness)': False, 'contains(cigarettes)': False, 'contains(want)': False, 'contains(huge)': False, 'contains(mediocrity)': False, 'contains(opar)': False, 'contains(abortion)': False, 'contains(chap)': False, 'contains(paled)': False, 'contains(distraction)': False, 'contains(hypsy)': False, 'contains(elders)': False, 'contains(compass)': False, 'contains(circuitry)': False, 'contains(rebuilding)': False, 'contains(hat)': False, 'contains(marshall)': False, 'contains(professory)': False, 'contains(dismisses)': False, 'contains(oderkerk)': False, 'contains(bunker)': False, 'contains(spit)': False, 'contains(abject)': False, 'contains(s)': True, 'contains(underdone)': False, 'contains(starring)': False, 'contains(dared)': False, 'contains(antidote)': False, 'contains(igniting)': False, 'contains(touchy)': False, 'contains(doubts)': False, 'contains(erich)': False, 'contains(trails)': False, 'contains(socking)': False, 'contains(surfing)': False, 'contains(promotional)': False, 'contains(sponsorship)': False, 'contains(circumstances)': False, 'contains(zoe)': False, 'contains(process)': False, 'contains(sponsor)': False, 'contains(mortified)': False, 'contains(snickered)': False, 'contains(minah)': False, 'contains(soaked)': False, 'contains(entering)': False, 'contains(cheddar)': False, 'contains(soundbite)': False, 'contains(recombination)': False, 'contains(zigged)': False, 'contains(sublimated)': False, 'contains(niall)': False, 'contains(sixteen)': False, 'contains(harassing)': False, 'contains(loitered)': False, 'contains(dna)': False, 'contains(noblewoman)': False, 'contains(interogation)': False, 'contains(locusts)': False, 'contains(skirmish)': False, 'contains(unintentionally)': False, 'contains(bounce)': False, 'contains(rebounding)': False, 'contains(guarded)': False, 'contains(mori)': False, 'contains(cages)': False, 'contains(atlantis)': False, 'contains(sustaining)': False, 'contains(straighten)': False, 'contains(otto)': False, 'contains(flotsam)': False, 'contains(centuries)': False, 'contains(promiss)': False, 'contains(maude)': False, 'contains(hawkes)': False, 'contains(scott)': False, 'contains(edged)': False, 'contains(wrong)': True, 'contains(frenchmen)': False, 'contains(dilbert)': False, 'contains(indicative)': False, 'contains(bruckheimer)': False, 'contains(porpoise)': False, 'contains(uncharacteristically)': False, 'contains(ellen)': False, 'contains(stifle)': False, 'contains(stormare)': False, 'contains(wracked)': False, 'contains(encourage)': False, 'contains(wits)': False, 'contains(bios)': False, 'contains(fry)': False, 'contains(resonated)': False, 'contains(lyndon)': False, 'contains(stylings)': False, 'contains(rangers)': False, 'contains(marlo)': False, 'contains(stillness)': False, 'contains(arlington)': False, 'contains(scold)': False, 'contains(belt)': False, 'contains(mcferran)': False, 'contains(ching)': False, 'contains(stern)': False, 'contains(crackles)': False, 'contains(antwerp)': False, 'contains(remembrance)': False, 'contains(expressively)': False, 'contains(byline)': False, 'contains(admirer)': False, 'contains(squirt)': False, 'contains(saucy)': False, 'contains(clients)': False, 'contains(mirrors)': False, 'contains(gloating)': False, 'contains(herzfeld)': False, 'contains(inconsistent)': False, 'contains(untouched)': False, 'contains(whizzing)': False, 'contains(traumatizes)': False, 'contains(bouyant)': False, 'contains(initiated)': False, 'contains(yogi)': False, 'contains(wales)': False, 'contains(disintegrated)': False, 'contains(spotty)': False, 'contains(fisherman)': False, 'contains(greatness)': False, 'contains(neary)': False, 'contains(boiler)': False, 'contains(westlake)': False, 'contains(allan)': False, 'contains(organisations)': False, 'contains(premier)': False, 'contains(apace)': False, 'contains(matilda)': False, 'contains(belloq)': False, 'contains(glenne)': False, 'contains(nothin)': False, 'contains(revolutionized)': False, 'contains(macgowan)': False, 'contains(faded)': False, 'contains(ryan_)': False, 'contains(terrifyingly)': False, 'contains(awaiting)': False, 'contains(onofrio)': False, 'contains(goodman)': False, 'contains(crazies)': False, 'contains(caitlyn)': False, 'contains(virus)': False, 'contains(adroit)': False, 'contains(prostration)': False, 'contains(resorts)': False, 'contains(yugoslavians)': False, 'contains(signs)': False, 'contains(formulates)': False, 'contains(squabble)': False, 'contains(much)': False, 'contains(screaming)': False, 'contains(methods)': False, 'contains(despises)': False, 'contains(bogg)': False, 'contains(ony)': False, 'contains(excising)': False, 'contains(dahlings)': False, 'contains(makes)': False, 'contains(sympathize)': False, 'contains(stoicism)': False, 'contains(isaac)': False, 'contains(juergen)': False, 'contains(bolstered)': False, 'contains(blonde)': False, 'contains(aggressivelly)': False, 'contains(fruity)': False, 'contains(mutilated)': False, 'contains(mensch)': False, 'contains(behave)': False, 'contains(red)': False, 'contains(palladino)': False, 'contains(welcomes)': False, 'contains(seaman)': False, 'contains(couple)': False, 'contains(excitable)': False, 'contains(charges)': False, 'contains(rich)': False, 'contains(broader)': False, 'contains(shapely)': False, 'contains(dolph)': False, 'contains(gladys)': False, 'contains(wives)': False, 'contains(detectives)': False, 'contains(cobblers)': False, 'contains(unrecognizable)': False, 'contains(colonists)': False, 'contains(mintues)': False, 'contains(mystic)': False, 'contains(sportsmanship)': False, 'contains(benson)': False, 'contains(parachute)': False, 'contains(millieu)': False, 'contains(defensively)': False, 'contains(being)': False, 'contains(seminal)': False, 'contains(music)': False, 'contains(pull)': False, 'contains(90210)': False, 'contains(cloris)': False, 'contains(traumatised)': False, 'contains(diapers)': False, 'contains(replied)': False, 'contains(wachowskis)': False, 'contains(speedboat)': False, 'contains(krippendorf)': False, 'contains(hercules)': False, 'contains(meteorologist)': False, 'contains(bogglingly)': False, 'contains(smiling)': False, 'contains(pinto)': False, 'contains(bursting)': False, 'contains(modestly)': False, 'contains(climber)': False, 'contains(dodie)': False, 'contains(retell)': False, 'contains(wage)': False, 'contains(sela)': False, 'contains(henpecked)': False, 'contains(complications)': False, 'contains(pretzel)': False, 'contains(stifled)': False, 'contains(trys)': False, 'contains(reopens)': False, 'contains(babe)': False, 'contains(discerning)': False, 'contains(headset)': False, 'contains(stoker)': False, 'contains(doom)': False, 'contains(snuggles)': False, 'contains(cessation)': False, 'contains(abbreviated)': False, 'contains(enjoys)': False, 'contains(ideally)': False, 'contains(raped)': False, 'contains(_seven_nights_)': False, 'contains(haviland)': False, 'contains(confrontatory)': False, 'contains(charnel)': False, 'contains(pasadena)': False, 'contains(portentuous)': False, 'contains(titanium)': False, 'contains(abnormally)': False, 'contains(unwelcomed)': False, 'contains(procreate)': False, 'contains(keeble)': False, 'contains(sumptuous)': False, 'contains(conscious)': False, 'contains(regressive)': False, 'contains(embark)': False, 'contains(expound)': False, 'contains(wacked)': False, 'contains(engages)': False, 'contains(touchstone)': False, 'contains(amarcord)': False, 'contains(tsui)': False, 'contains(petrice)': False, 'contains(numeric)': False, 'contains(hotcakes)': False, 'contains(chlorine)': False, 'contains(locked)': False, 'contains(tremble)': False, 'contains(featherbrained)': False, 'contains(conceptually)': False, 'contains(genesis)': False, 'contains(meddled)': False, 'contains(lads)': False, 'contains(friggin)': False, 'contains(mutinies)': False, 'contains(stoked)': False, 'contains(copious)': False, 'contains(revelatory)': False, 'contains(cronenberg)': False, 'contains(absorbs)': False, 'contains(rhythmless)': False, 'contains(burley)': False, 'contains(whoever)': False, 'contains(mosques)': False, 'contains(hag)': False, 'contains(bianca)': False, 'contains(anonymously)': False, 'contains(prior)': False, 'contains(procreating)': False, 'contains(carelessly)': False, 'contains(chad)': False, 'contains(forwarned)': False, 'contains(maker)': False, 'contains(fin)': False, 'contains(bulow)': False, 'contains(informants)': False, 'contains(nora)': False, 'contains(ballet)': False, 'contains(chomped)': False, 'contains(sommers)': False, 'contains(spacemusic)': False, 'contains(bastad)': False, 'contains(rabal)': False, 'contains(golden)': False, 'contains(whoaaaaaa)': False, 'contains(toning)': False, 'contains(overturned)': False, 'contains(handcuffs)': False, 'contains(nonsensical)': False, 'contains(preservation)': False, 'contains(eyelids)': False, 'contains(considerably)': False, 'contains(rioters)': False, 'contains(pressed)': False, 'contains(tightened)': False, 'contains(extent)': False, 'contains(wandering)': False, 'contains(dozen)': False, 'contains(remastered)': False, 'contains(deserves)': False, 'contains(beowolf)': False, 'contains(warfield)': False, 'contains(audaciously)': False, 'contains(majorino)': False, 'contains(featherweight)': False, 'contains(superiority)': False, 'contains(portents)': False, 'contains(harvests)': False, 'contains(colleague)': False, 'contains(fewer)': False, 'contains(turned)': False, 'contains(wunderkind)': False, 'contains(opportunists)': False, 'contains(goggins)': False, 'contains(zellwegger)': False, 'contains(middleton)': False, 'contains(atlantic)': False, 'contains(pimp)': False, 'contains(grounded)': False, 'contains(doreen)': False, 'contains(caan)': False, 'contains(unknowns)': False, 'contains(seldes)': False, 'contains(spine)': False, 'contains(measurements)': False, 'contains(stifler)': False, 'contains(heebie)': False, 'contains(turner)': False, 'contains(ingrid)': False, 'contains(complicates)': False, 'contains(absurdities)': False, 'contains(unredeemable)': False, 'contains(navigators)': False, 'contains(rice)': False, 'contains(graffiti)': False, 'contains(oxymoron)': False, 'contains(sweaty)': False, 'contains(smashed)': False, 'contains(sorted)': False, 'contains(joely)': False, 'contains(phallus)': False, 'contains(roll)': False, 'contains(damnit)': False, 'contains(fugitives)': False, 'contains(shootout)': False, 'contains(saddened)': False, 'contains(span)': False, 'contains(condolences)': False, 'contains(koppelman)': False, 'contains(gardenia)': False, 'contains(locklear)': False, 'contains(cheekbones)': False, 'contains(horndog)': False, 'contains(topping)': False, 'contains(simplistic)': False, 'contains(foregin)': False, 'contains(muth)': False, 'contains(bamboo)': False, 'contains(leary)': False, 'contains(18th)': False, 'contains(gisbourne)': False, 'contains(oingo)': False, 'contains(natured)': False, 'contains(mistic)': False, 'contains(disaster_)': False, 'contains(ugc)': False, 'contains(spins)': False, 'contains(euphegenia)': False, 'contains(overpopulated)': False, 'contains(mba)': False, 'contains(more)': False, 'contains(lanky)': False, 'contains(oldies)': False, 'contains(_titus_andronicus_)': False, 'contains(thora)': False, 'contains(rooker)': False, 'contains(copulate)': False, 'contains(islamic)': False, 'contains(sympathetically)': False, 'contains(betraying)': False, 'contains(dynamics)': False, 'contains(convincingly)': False, 'contains(bedridden)': False, 'contains(woody)': False, 'contains(sunny)': False, 'contains(combatants)': False, 'contains(cannibals)': False, 'contains(allah)': False, 'contains(capoeira)': False, 'contains(petey)': False, 'contains(codename)': False, 'contains(goregeous)': False, 'contains(beloved)': False, 'contains(hav)': False, 'contains(macho)': False, 'contains(chins)': False, 'contains(goddamn)': False, 'contains(desiring)': False, 'contains(watcher)': False, 'contains(congratulations)': False, 'contains(velda)': False, 'contains(stylistics)': False, 'contains(crowbar)': False, 'contains(ahern)': False, 'contains(pyroclastic)': False, 'contains(incongruent)': False, 'contains(isacsson)': False, 'contains(shocks)': False, 'contains(hideaway)': False, 'contains(alexandre)': False, 'contains(chirping)': False, 'contains(gunshot)': False, 'contains(nervousness)': False, 'contains(retroactive)': False, 'contains(nighthawks)': False, 'contains(cranked)': False, 'contains(disasters)': False, 'contains(quaint)': False, 'contains(wrinkled)': False, 'contains(frontgate)': False, 'contains(shadow)': False, 'contains(onw)': False, 'contains(binges)': False, 'contains(unjust)': False, 'contains(meantime)': False, 'contains(scorces)': False, 'contains(mirabella)': False, 'contains(charmed)': False, 'contains(stays)': False, 'contains(disgrace)': False, 'contains(yakov)': False, 'contains(therefore)': False, 'contains(grapples)': False, 'contains(painkiller)': False, 'contains(waning)': False, 'contains(recycles)': False, 'contains(symmetry)': False, 'contains(wants)': False, 'contains(f)': False, 'contains(melinda)': False, 'contains(magma)': False, 'contains(falstaff)': False, 'contains(battleships)': False, 'contains(shenanigans)': False, 'contains(locations)': False, 'contains(dumbest)': False, 'contains(diggler)': False, 'contains(dismantling)': False, 'contains(canran)': False, 'contains(ahmet)': False, 'contains(prizes)': False, 'contains(longo)': False, 'contains(overcooked)': False, 'contains(stereotypical)': False, 'contains(vivien)': False, 'contains(negativity)': False, 'contains(impacted)': False, 'contains(snugly)': False, 'contains(collides)': False, 'contains(stipulate)': False, 'contains(stifles)': False, 'contains(originally)': False, 'contains(upstate)': False, 'contains(gigolo)': False, 'contains(delectably)': False, 'contains(unjustifyably)': False, 'contains(pivot)': False, 'contains(spewing)': False, 'contains(former)': False, 'contains(fedoras)': False, 'contains(devito)': False, 'contains(telescope)': False, 'contains(collectively)': False, 'contains(savini)': False, 'contains(periodic)': False, 'contains(skewer)': False, 'contains(disasterous)': False, 'contains(enthrall)': False, 'contains(displays)': False, 'contains(carrion)': False, 'contains(weirdoes)': False, 'contains(buliwyf)': False, 'contains(palms)': False, 'contains(omaha)': False, 'contains(beesley)': False, 'contains(spyglass)': False, 'contains(spam)': False, 'contains(dyer)': False, 'contains(feeling)': False, 'contains(======)': False, 'contains(fueled)': False, 'contains(aussies)': False, 'contains(tenacious)': False, 'contains(restraints)': False, 'contains(doos)': False, 'contains(modest)': False, 'contains(chu)': False, 'contains(guitry)': False, 'contains(boarded)': False, 'contains(fistfights)': False, 'contains(trekkie)': False, 'contains(gripe)': False, 'contains(universally)': False, 'contains(lingering)': False, 'contains(breakfast)': False, 'contains(societal)': False, 'contains(courses)': False, 'contains(outburst)': False, 'contains(hatchette)': False, 'contains(obscured)': False, 'contains(floated)': False, 'contains(limburgher)': False, 'contains(gorman)': False, 'contains(pissant)': False, 'contains(mussenden)': False, 'contains(underlining)': False, 'contains(duet)': False, 'contains(estimate)': False, 'contains(testaments)': False, 'contains(francesca)': False, 'contains(lameness)': False, 'contains(bliss)': False, 'contains(slothful)': False, 'contains(bazooms)': False, 'contains(smirk)': False, 'contains(haw)': False, 'contains(glowers)': False, 'contains(learn)': False, 'contains(playfulness)': False, 'contains(hackwork)': False, 'contains(distractedness)': False, 'contains(perturbed)': False, 'contains(aboard)': False, 'contains(enliven)': False, 'contains(briesewitz)': False, 'contains(exasperating)': False, 'contains(ambiguities)': False, 'contains(waitering)': False, 'contains(israel)': False, 'contains(insane)': False, 'contains(kfc)': False, 'contains(spin)': False, 'contains(tracking)': False, 'contains(massironi)': False, 'contains(directs)': False, 'contains(limitless)': False, 'contains(slaver)': False, 'contains(chrissy)': False, 'contains(lang)': False, 'contains(droning)': False, 'contains(deserved)': False, 'contains(bozo)': False, 'contains(apropos)': False, 'contains(subplots)': False, 'contains(parlay)': False, 'contains(hai)': False, 'contains(healed)': False, 'contains(collided)': False, 'contains(expanded)': False, 'contains(academic)': False, 'contains(chaz)': False, 'contains(pridefully)': False, 'contains(twisting)': False, 'contains(whacking)': False, 'contains(francesco)': False, 'contains(turkish)': False, 'contains(extend)': False, 'contains(sock)': False, 'contains(kriss)': False, 'contains(tolan)': False, 'contains(concentrates)': False, 'contains(friend)': False, 'contains(small)': False, 'contains(landslide)': False, 'contains(himalayas)': False, 'contains(clarkson)': False, 'contains(delicately)': False, 'contains(punishable)': False, 'contains(chow)': False, 'contains(simplify)': False, 'contains(romper)': False, 'contains(rickman)': False, 'contains(shipments)': False, 'contains(inanimate)': False, 'contains(gershon)': False, 'contains(unsubstantial)': False, 'contains(neophytes)': False, 'contains(unsinkable)': False, 'contains(bohemians)': False, 'contains(surname)': False, 'contains(noteables)': False, 'contains(pooper)': False, 'contains(boozed)': False, 'contains(villiany)': False, 'contains(cuisine)': False, 'contains(arkin)': False, 'contains(wires)': False, 'contains(barrel)': False, 'contains(coaxed)': False, 'contains(duper)': False, 'contains(nordoff)': False, 'contains(aboslutely)': False, 'contains(jonnie)': False, 'contains(flipper)': False, 'contains(issac)': False, 'contains(uplifting)': False, 'contains(satire)': False, 'contains(mesmerize)': False, 'contains(norm)': False, 'contains(sects)': False, 'contains(decapitation)': False, 'contains(weendigo)': False, 'contains(union)': False, 'contains(admired)': False, 'contains(municipality)': False, 'contains(initiate)': False, 'contains(sked)': False, 'contains(freehold)': False, 'contains(butchers)': False, 'contains(conscription)': False, 'contains(tempted)': False, 'contains(engaged)': False, 'contains(soviets)': False, 'contains(milquetoast)': False, 'contains(scrubs)': False, 'contains(binding)': False, 'contains(.)': True, 'contains(ire)': False, 'contains(neurologist)': False, 'contains(address)': False, 'contains(tantalizingly)': False, 'contains(shockwave)': False, 'contains(dickinson)': False, 'contains(tightrope)': False, 'contains(transported)': False, 'contains(symbolise)': False, 'contains(plucked)': False, 'contains(assuring)': False, 'contains(investment)': False, 'contains(tricks)': False, 'contains(r2)': False, 'contains(implicit)': False, 'contains(phelps)': False, 'contains(door)': False, 'contains(ghostbusters)': False, 'contains(emmylou)': False, 'contains(houseman)': False, 'contains(proprietor)': False, 'contains(shandling)': False, 'contains(masturbates)': False, 'contains(sonorra)': False, 'contains(obliges)': False, 'contains(bicentennial)': False, 'contains(faulkner)': False, 'contains(minnie)': False, 'contains(ambling)': False, 'contains(mythos)': False, 'contains(courageously)': False, 'contains(grandma)': False, 'contains(marquee)': False, 'contains(storyboarded)': False, 'contains(hairdresser)': False, 'contains(following)': False, 'contains(guamo)': False, 'contains(horsing)': False, 'contains(sedition)': False, 'contains(redirection)': False, 'contains(roots)': False, 'contains(painstakingly)': False, 'contains(contrastingly)': False, 'contains(dues)': False, 'contains(huddled)': False, 'contains(disengaging)': False, 'contains(disgraced)': False, 'contains(crater)': False, 'contains(fabric)': False, 'contains(zippers)': False, 'contains(attenuated)': False, 'contains(cultivating)': False, 'contains(gown)': False, 'contains(positively)': False, 'contains(singed)': False, 'contains(twotg)': False, 'contains(disturbed)': False, 'contains(liebes)': False, 'contains(peppy)': False, 'contains(vexing)': False, 'contains(holdover)': False, 'contains(singer)': False, 'contains(shawn)': False, 'contains(sprinkle)': False, 'contains(consoles)': False, 'contains(sensitively)': False, 'contains(midget)': False, 'contains(land)': False, 'contains(katie)': False, 'contains(jitters)': False, 'contains(corrects)': False, 'contains(magyuver)': False, 'contains(indiscretion)': False, 'contains(locks)': False, 'contains(integrating)': False, 'contains(loco)': False, 'contains(ratttz)': False, 'contains(flyboy)': False, 'contains(hessian)': False, 'contains(budget)': False, 'contains(turvy)': False, 'contains(occurs)': False, 'contains(kroon)': False, 'contains(customer)': False, 'contains(hugh)': False, 'contains(ayla)': False, 'contains(crowdpleasing)': False, 'contains(embrassment)': False, 'contains(hockley)': False, 'contains(jovovich)': False, 'contains(malfunctions)': False, 'contains(jiang)': False, 'contains(scoffs)': False, 'contains(filmcritic)': False, 'contains(ahmed)': False, 'contains(zappa)': False, 'contains(designing)': False, 'contains(rabbinical)': False, 'contains(kyzynski)': False, 'contains(meaner)': False, 'contains(palisades)': False, 'contains(kensington)': False, 'contains(uhhhhhm)': False, 'contains(faceted)': False, 'contains(cadence)': False, 'contains(delroy)': False, 'contains(laughton)': False, 'contains(unequipped)': False, 'contains(pales)': False, 'contains(portait)': False, 'contains(photos)': False, 'contains(bouncy)': False, 'contains(_dragon_)': False, 'contains(sensitivity)': False, 'contains(assigns)': False, 'contains(tasting)': False, 'contains(dismissed)': False, 'contains(namuth)': False, 'contains(kids)': False, 'contains(acted)': False, 'contains(materialized)': False, 'contains(concentrated)': False, 'contains(individuals)': False, 'contains(alarming)': False, 'contains(wyman)': False, 'contains(elisa)': False, 'contains(internet)': False, 'contains(pass)': False, 'contains(existential)': False, 'contains(pencil)': False, 'contains(hennings)': False, 'contains(boorman)': False, 'contains(hash)': False, 'contains(balaban)': False, 'contains(exclaimed)': False, 'contains(chat)': False, 'contains(reconstruction)': False, 'contains(rocque)': False, 'contains(sensational)': False, 'contains(morose)': False, 'contains(rewatched)': False, 'contains(quarter)': False, 'contains(maclachlan)': False, 'contains(agitation)': False, 'contains(rover)': False, 'contains(eradicate)': False, 'contains(restoring)': False, 'contains(neilsen)': False, 'contains(traumatized)': False, 'contains(bureaucrat)': False, 'contains(padded)': False, 'contains(wickedly)': False, 'contains(self)': False, 'contains(overal)': False, 'contains(frieberg)': False, 'contains(teresa)': False, 'contains(jetsons)': False, 'contains(puzzling)': False, 'contains(gloomy)': False, 'contains(jip)': False, 'contains(waving)': False, 'contains(reconciling)': False, 'contains(typhoon)': False, 'contains(professionally)': False, 'contains(magwitch)': False, 'contains(lengthen)': False, 'contains(_eve)': False, 'contains(chabert)': False, 'contains(tamahori)': False, 'contains(welcomed)': False, 'contains(crates)': False, 'contains(reap)': False, 'contains(suffice)': False, 'contains(xenophobe)': False, 'contains(controversy)': False, 'contains(caned)': False, 'contains(mishandle)': False, 'contains(hay)': False, 'contains(honk)': False, 'contains(henceforth)': False, 'contains(sojourn)': False, 'contains(amphibians)': False, 'contains(rage)': False, 'contains(funicello)': False, 'contains(buzzsaw)': False, 'contains(fornicators)': False, 'contains(naomi)': False, 'contains(sci)': False, 'contains(lane)': False, 'contains(effects)': False, 'contains(uploaded)': False, 'contains(bueller)': False, 'contains(gadget)': False, 'contains(reactions)': False, 'contains(academia)': False, 'contains(brainless)': False, 'contains(henreid)': False, 'contains(debilitating)': False, 'contains(oblige)': False, 'contains(patrolled)': False, 'contains(realisation)': False, 'contains(explosions)': False, 'contains(voicework)': False, 'contains(raucous)': False, 'contains(edges)': False, 'contains(hoyle)': False, 'contains(pumpkins)': False, 'contains(tamara)': False, 'contains(eduard)': False, 'contains(vegetative)': False, 'contains(k)': False, 'contains(casualness)': False, 'contains(uninterrupted)': False, 'contains(amalgamation)': False, 'contains(exact)': False, 'contains(harnessed)': False, 'contains(moderately)': False, 'contains(minute)': False, 'contains(canning)': False, 'contains(continents)': False, 'contains(comically)': False, 'contains(stagecoach)': False, 'contains(harve)': False, 'contains(bummer)': False, 'contains(barren)': False, 'contains(colorized)': False, 'contains(edgecomb)': False, 'contains(rewarded)': False, 'contains(also)': True, 'contains(hormones)': False, 'contains(losin)': False, 'contains(policed)': False, 'contains(tardis)': False, 'contains(fecal)': False, 'contains(blond)': False, 'contains(detested)': False, 'contains(playback)': False, 'contains(reingold)': False, 'contains(rulebook)': False, 'contains(undeveloped)': False, 'contains(wynt)': False, 'contains(toucha)': False, 'contains(connection)': False, 'contains(matheson)': False, 'contains(civilians)': False, 'contains(scream)': True, 'contains(scalvaging)': False, 'contains(rica)': False, 'contains(brassed)': False, 'contains(troubled)': False, 'contains(altogether)': False, 'contains(oldham)': False, 'contains(dave)': False, 'contains(bacri)': False, 'contains(slurring)': False, 'contains(bakersfield)': False, 'contains(droves)': False, 'contains(carters)': False, 'contains(ineffable)': False, 'contains(beristain)': False, 'contains(spar)': False, 'contains(von)': False, 'contains(coachmen)': False, 'contains(mafioso)': False, 'contains(mora)': False, 'contains(crackled)': False, 'contains(working)': False, 'contains(plate)': False, 'contains(opposed)': False, 'contains(unrepentant)': False, 'contains(mayer)': False, 'contains(vision)': False, 'contains(clock)': False, 'contains(unveil)': False, 'contains(hickey)': False, 'contains(swanky)': False, 'contains(brazilian)': False, 'contains(rootless)': False, 'contains(turnaround)': False, 'contains(conceptions)': False, 'contains(metamorphoses)': False, 'contains(heirloom)': False, 'contains(looted)': False, 'contains(photon)': False, 'contains(climb)': False, 'contains(last)': False, 'contains(sidekicks)': False, 'contains(traffic)': False, 'contains(honeymoon)': False, 'contains(interactivity)': False, 'contains(farsical)': False, 'contains(lasso)': False, 'contains(principals)': False, 'contains(china)': True, 'contains(intrepid)': False, 'contains(maltese)': False, 'contains(choice)': False, 'contains(kuei)': False, 'contains(unwittingly)': False, 'contains(lifeline)': False, 'contains(sums)': False, 'contains(demarco)': False, 'contains(orleans)': False, 'contains(thurman)': False, 'contains(treason)': False, 'contains(woods)': False, 'contains(captive)': False, 'contains(mummified)': False, 'contains(everclear)': False, 'contains(droppingly)': False, 'contains(patriarch)': False, 'contains(portobello)': False, 'contains(ooooooo)': False, 'contains(vaporize)': False, 'contains(tahoe)': False, 'contains(dinosaurs)': False, 'contains(remaning)': False, 'contains(underbelly)': False, 'contains(one)': True, 'contains(watches)': False, 'contains(hal)': False, 'contains(megabytes)': False, 'contains(sealed)': False, 'contains(hopkins)': False, 'contains(unlikeable)': False, 'contains(remedy)': False, 'contains(thomsen)': False, 'contains(riots)': False, 'contains(everytime)': False, 'contains(affairs)': False, 'contains(tragicomic)': False, 'contains(scraped)': False, 'contains(confidence)': False, 'contains(clarified)': False, 'contains(resemblances)': False, 'contains(feuds)': False, 'contains(muck)': False, 'contains(mindless)': False, 'contains(awkwardness)': False, 'contains(grueling)': False, 'contains(singles)': False, 'contains(glamor)': False, 'contains(innuendos)': False, 'contains(neglect)': False, 'contains(lipstick)': False, 'contains(heartedness)': False, 'contains(portrayed)': False, 'contains(salva)': False, 'contains(damning)': False, 'contains(bandaras)': False, 'contains(beyer)': False, 'contains(squeezes)': False, 'contains(rehash)': False, 'contains(emotion)': False, 'contains(boiled)': False, 'contains(mckidd)': False, 'contains(yankovich)': False, 'contains(amuck)': False, 'contains(_escape)': False, 'contains(puppy)': False, 'contains(overboard)': False, 'contains(structuring)': False, 'contains(inquired)': False, 'contains(dangerfield)': False, 'contains(sank)': False, 'contains(heavyweight)': False, 'contains(coaxing)': False, 'contains(caruso)': False, 'contains(splashing)': False, 'contains(carping)': False, 'contains(blizzard)': False, 'contains(demolition)': False, 'contains(employ)': False, 'contains(calculation)': False, 'contains(isaak)': False, 'contains(repayment)': False, 'contains(feasibility)': False, 'contains(influx)': False, 'contains(saint)': False, 'contains(tiegs)': False, 'contains(experience)': False, 'contains(locker)': False, 'contains(preciously)': False, 'contains(pairs)': False, 'contains(espouses)': False, 'contains(childs)': False, 'contains(vicent)': False, 'contains(dusty)': False, 'contains(prancer)': False, 'contains(overthrow)': False, 'contains(retarded)': False, 'contains(mcnamara)': False, 'contains(studious)': False, 'contains(listens)': False, 'contains(emergency)': False, 'contains(split)': False, 'contains(saving)': False, 'contains(unequivocally)': False, 'contains(admire)': False, 'contains(vamires)': False, 'contains(smashes)': False, 'contains(overwhelmed)': False, 'contains(sucess)': False, 'contains(48th)': False, 'contains(prostrate)': False, 'contains(haplessly)': False, 'contains(glean)': False, 'contains(verges)': False, 'contains(hounded)': False, 'contains(excuses)': False, 'contains(jere)': False, 'contains(quartet)': False, 'contains(recipients)': False, 'contains(crescendo)': False, 'contains(merpeople)': False, 'contains(dowling)': False, 'contains(skywalker)': False, 'contains(canet)': False, 'contains(dyed)': False, 'contains(taj)': False, 'contains(veer)': False, 'contains(project)': False, 'contains(beatng)': False, 'contains(spews)': False, 'contains(jacks)': False, 'contains(spectrum)': False, 'contains(boarder)': False, 'contains(rewards)': False, 'contains(schandling)': False, 'contains(antagonizes)': False, 'contains(workplace)': False, 'contains(complicated)': False, 'contains(dysfuntion)': False, 'contains(afi)': False, 'contains(scatter)': False, 'contains(raeeyain)': False, 'contains(dirty)': False, 'contains(suspensefully)': False, 'contains(weeds)': False, 'contains(palme)': False, 'contains(deflection)': False, 'contains(enrols)': False, 'contains(jewels)': False, 'contains(barcode)': False, 'contains(wolves)': False, 'contains(research)': False, 'contains(tripe)': False, 'contains(infamous)': False, 'contains(recoiling)': False, 'contains(scrumptiously)': False, 'contains(spearing)': False, 'contains(firorina)': False, 'contains(plath)': False, 'contains(amusements)': False, 'contains(parasites)': False, 'contains(causes)': False, 'contains(gallagher)': False, 'contains(sometimes)': False, 'contains(explainable)': False, 'contains(opal)': False, 'contains(hone)': False, 'contains(psychiatric)': False, 'contains(ham)': False, 'contains(invite)': False, 'contains(cream)': False, 'contains(november)': False, 'contains(rawhide)': False, 'contains(moons)': False, 'contains(multitudes)': False, 'contains(errors)': False, 'contains(deflate)': False, 'contains(sleuthing)': False, 'contains(oilrig)': False, 'contains(prostitues)': False, 'contains(dialogueless)': False, 'contains(attendance)': False, 'contains(paraglider)': False, 'contains(massaging)': False, 'contains(deadpan)': False, 'contains(snake)': False, 'contains(racers)': False, 'contains(gases)': False, 'contains(corrected)': False, 'contains(considerable)': False, 'contains(indigenous)': False, 'contains(definition)': False, 'contains(retrieve)': False, 'contains(admitedly)': False, 'contains(beings)': False, 'contains(kasinsky)': False, 'contains(testament)': False, 'contains(rhodes)': False, 'contains(lyricized)': False, 'contains(elmo)': False, 'contains(daqughter)': False, 'contains(ballhaus)': False, 'contains(paychecks)': False, 'contains(world)': True, 'contains(zsigmond)': False, 'contains(crowned)': False, 'contains(gopher)': False, 'contains(activists)': False, 'contains(grasping)': False, 'contains(adaptable)': False, 'contains(emanating)': False, 'contains(maliciously)': False, 'contains(polemic)': False, 'contains(affiliated)': False, 'contains(imagines)': False, 'contains(videoshelves)': False, 'contains(concurrence)': False, 'contains(ocious)': False, 'contains(loren)': False, 'contains(biederman)': False, 'contains(claustral)': False, 'contains(motives)': False, 'contains(penthouse)': False, 'contains(sentencing)': False, 'contains(professors)': False, 'contains(rejoiced)': False, 'contains(yevgeny)': False, 'contains(whodunit)': False, 'contains(appropriately)': False, 'contains(robot)': False, 'contains(alice)': False, 'contains(majestically)': False, 'contains(years)': False, 'contains(theroux)': False, 'contains(zoo)': False, 'contains(west)': False, 'contains(nntphub)': False, 'contains(tonino)': False, 'contains(benefit)': False, 'contains(prances)': False, 'contains(reacquaints)': False, 'contains(natalie)': False, 'contains(rediscovers)': False, 'contains(sharpe)': False, 'contains(cheaply)': False, 'contains(rico)': False, 'contains(opposite)': False, 'contains(recycled)': False, 'contains(past)': False, 'contains(francois)': False, 'contains(disobeying)': False, 'contains(sprouted)': False, 'contains(jia)': False, 'contains(instability)': False, 'contains(ira)': False, 'contains(stamping)': False, 'contains(eery)': False, 'contains(murphy)': False, 'contains(lookin)': False, 'contains(witt)': False, 'contains(hanging)': False, 'contains(jargon)': False, 'contains(suspension)': False, 'contains(cagey)': False, 'contains(wraps)': False, 'contains(benches)': False, 'contains(respective)': False, 'contains(didi)': False, 'contains(fleischer)': False, 'contains(retains)': False, 'contains(remand)': False, 'contains(likeablity)': False, 'contains(educational)': False, 'contains(obscures)': False, 'contains(intelligent)': False, 'contains(incense)': False, 'contains(kret)': False, 'contains(friction)': False, 'contains(influence)': False, 'contains(morally)': False, 'contains(mistreated)': False, 'contains(lively)': False, 'contains(wholesome)': False, 'contains(recognizing)': False, 'contains(yahoo)': False, 'contains(salads)': False, 'contains(initiation)': False, 'contains(gavan)': False, 'contains(barrymore)': False, 'contains(mournful)': False, 'contains(caraciture)': False, 'contains(complexly)': False, 'contains(caged)': False, 'contains(bell)': False, 'contains(richelieu)': False, 'contains(gypsies)': False, 'contains(zucker)': False, 'contains(globally)': False, 'contains(diverted)': False, 'contains(chair)': False, 'contains(cavanaugh)': False, 'contains(situation)': False, 'contains(stetson)': False, 'contains(americanised)': False, 'contains(broiled)': False, 'contains(masquerading)': False, 'contains(fearlessly)': False, 'contains(sumo)': False, 'contains(periodical)': False, 'contains(seize)': False, 'contains(mishap)': False, 'contains(reuben)': False, 'contains(rush)': False, 'contains(abound)': False, 'contains(melbourne)': False, 'contains(oversight)': False, 'contains(cecilia)': False, 'contains(topicality)': False, 'contains(conjure)': False, 'contains(tomahawk)': False, 'contains(wakes)': False, 'contains(patois)': False, 'contains(kihlstedt)': False, 'contains(han)': False, 'contains(bandits)': False, 'contains(defeatist)': False, 'contains(mendes)': False, 'contains(crown)': False, 'contains(boondocks)': False, 'contains(restlessness)': False, 'contains(averse)': False, 'contains(messier)': False, 'contains(flooded)': False, 'contains(lock)': False, 'contains(commensurately)': False, 'contains(gregor)': False, 'contains(sabotaging)': False, 'contains(signy)': False, 'contains(unformal)': False, 'contains(adapt)': False, 'contains(cleverness)': False, 'contains(abbots)': False, 'contains(patch)': False, 'contains(realize)': False, 'contains(seagrave)': False, 'contains(beaman)': False, 'contains(nears)': False, 'contains(blunted)': False, 'contains(choudhury)': False, 'contains(coolness)': False, 'contains(almasy)': False, 'contains(sickness)': False, 'contains(bukater)': False, 'contains(sweats)': False, 'contains(vargas)': False, 'contains(askew)': False, 'contains(erica)': False, 'contains(primeval)': False, 'contains(interned)': False, 'contains(johnston)': False, 'contains(songwriter)': False, 'contains(respite)': False, 'contains(multidimensional)': False, 'contains(follower)': False, 'contains(seriously)': False, 'contains(originality)': False, 'contains(loveliest)': False, 'contains(flits)': False, 'contains(abused)': False, 'contains(inhuman)': False, 'contains(vomits)': False, 'contains(kethcum)': False, 'contains(sang)': False, 'contains(passenger)': False, 'contains(imagined)': False, 'contains(leadership)': False, 'contains(ethnocentric)': False, 'contains(prosper)': False, 'contains(crook)': False, 'contains(buffet)': False, 'contains(fig)': False, 'contains(chucky)': False, 'contains(memoirs)': False, 'contains(kaminski)': False, 'contains(tilting)': False, 'contains(czech)': False, 'contains(_would_)': False, 'contains(improvisationaly)': False, 'contains(linebackers)': False, 'contains(disjointed)': False, 'contains(wang)': False, 'contains(modernizing)': False, 'contains(foreheads)': False, 'contains(catchiness)': False, 'contains(raiders)': False, 'contains(silencers)': False, 'contains(uncouth)': False, 'contains(idly)': False, 'contains(voe)': False, 'contains(exuberantly)': False, 'contains(hallucinogenic)': False, 'contains(mackey)': False, 'contains(cartman)': False, 'contains(retrospect)': False, 'contains(vow)': False, 'contains(egotistical)': False, 'contains(snatch)': False, 'contains(hofstra)': False, 'contains(crooned)': False, 'contains(fifteen)': False, 'contains(doctoring)': False, 'contains(aaaaaaaahhhh)': False, 'contains(purred)': False, 'contains(lapping)': False, 'contains(allie)': False, 'contains(thaddeus)': False, 'contains(guarding)': False, 'contains(hawaiian)': False, 'contains(protovision)': False, 'contains(chopping)': False, 'contains(yugoslavian)': False, 'contains(internalize)': False, 'contains(inserting)': False, 'contains(monogamy)': False, 'contains(company)': False, 'contains(wooden)': False, 'contains(awestruck)': False, 'contains(tribes)': False, 'contains(intestines)': False, 'contains(obese)': False, 'contains(frighteners)': False, 'contains(shread)': False, 'contains(prepared)': False, 'contains(travel)': False, 'contains(yeager)': False, 'contains(royalist)': False, 'contains(slimeball)': False, 'contains(colorfully)': False, 'contains(pimple)': False, 'contains(into)': True, 'contains(firth)': False, 'contains(braggarts)': False, 'contains(babs)': False, 'contains(crackin)': False, 'contains(workmanlike)': False, 'contains(forrester)': False, 'contains(idle)': False, 'contains(cusack)': False, 'contains(accomplished)': True, 'contains(skewed)': False, 'contains(zahn)': False, 'contains(hong)': True, 'contains(sebastiano)': False, 'contains(clicked)': False, 'contains(paperwork)': False, 'contains(unwraps)': False, 'contains(wayward)': False, 'contains(rayden)': False, 'contains(torpedoes)': False, 'contains(elgar)': False, 'contains(sell)': False, 'contains(ernie)': False, 'contains(bongos)': False, 'contains(boatload)': False, 'contains(flowing)': False, 'contains(crashlands)': False, 'contains(nuptials)': False, 'contains(allegra)': False, 'contains(plotless)': False, 'contains(obssessed)': False, 'contains(realizes)': False, 'contains(advertisment)': False, 'contains(lass)': False, 'contains(spatula)': False, 'contains(initation)': False, 'contains(bigscreen)': False, 'contains(voyeuristic)': False, 'contains(grooms)': False, 'contains(blunderheaded)': False, 'contains(barton)': False, 'contains(cooks)': False, 'contains(blended)': False, 'contains(chapelle)': False, 'contains(thigh)': False, 'contains(arrow)': False, 'contains(legitimately)': False, 'contains(yojimbo)': False, 'contains(eleven)': False, 'contains(engagingly)': False, 'contains(competed)': False, 'contains(miniatures)': False, 'contains(postal)': False, 'contains(deloreans)': False, 'contains(climbs)': False, 'contains(stanleyville)': False, 'contains(thieves)': False, 'contains(fades)': False, 'contains(hugo)': False, 'contains(cayman)': False, 'contains(phil)': False, 'contains(sciorra)': False, 'contains(downloading)': False, 'contains(impaling)': False, 'contains(deuteronomy)': False, 'contains(projection)': False, 'contains(tanked)': False, 'contains(bogan)': False, 'contains(odile)': False, 'contains(palentologist)': False, 'contains(confronts)': False, 'contains(bottom)': False, 'contains(portorican)': False, 'contains(inventively)': False, 'contains(cuffs)': False, 'contains(boxing)': False, 'contains(consenting)': False, 'contains(accommodations)': False, 'contains(rapes)': False, 'contains(narrations)': False, 'contains(shocking)': False, 'contains(variable)': False, 'contains(despised)': False, 'contains(resemble)': False, 'contains(rza)': False, 'contains(conciousness)': False, 'contains(haunt)': False, 'contains(rehab)': False, 'contains(comprehensible)': False, 'contains(attorney)': False, 'contains(frights)': False, 'contains(bilingual)': False, 'contains(poignantly)': False, 'contains(goofing)': False, 'contains(dethrones)': False, 'contains(reintroduced)': False, 'contains(alienbusting)': False, 'contains(mccleod)': False, 'contains(procured)': False, 'contains(melancholic)': False, 'contains(barclay)': False, 'contains(toontown)': False, 'contains(courier)': False, 'contains(lavishness)': False, 'contains(hugs)': False, 'contains(familar)': False, 'contains(rifling)': False, 'contains(thickened)': False, 'contains(martineau)': False, 'contains(millionaire)': False, 'contains(amiss)': False, 'contains(gratuitous)': False, 'contains(urinate)': False, 'contains(materializes)': False, 'contains(fro)': False, 'contains(recollections)': False, 'contains(frewer)': False, 'contains(essays)': False, 'contains(unnerve)': False, 'contains(diverse)': False, 'contains(roadster)': False, 'contains(sant)': False, 'contains(gleam)': False, 'contains(succumb)': False, 'contains(marched)': False, 'contains(superintendent)': False, 'contains(effortlessly)': True, 'contains(prescott)': False, 'contains(comparitive)': False, 'contains(thumps)': False, 'contains(_2001_)': False, 'contains(captivatingly)': False, 'contains(kinkiness)': False, 'contains(ofcs)': False, 'contains(with)': True, 'contains(disfigured)': False, 'contains(wynn)': False, 'contains(idols)': False, 'contains(lounging)': False, 'contains(lindner)': False, 'contains(arousal)': False, 'contains(vainly)': False, 'contains(huns)': False, 'contains(intent)': False, 'contains(rosselini)': False, 'contains(jubilantly)': False, 'contains(novelty)': False, 'contains(unparalleled)': False, 'contains(insight)': False, 'contains(workmates)': False, 'contains(perfect)': False, 'contains(1600s)': False, 'contains(impressions)': False, 'contains(rumored)': False, 'contains(getaway)': False, 'contains(slickster)': False, 'contains(dirtier)': False, 'contains(spoken)': False, 'contains(dryland)': False, 'contains(chain)': False, 'contains(realized)': False, 'contains(_people_)': False, 'contains(tech)': False, 'contains(brotherhood)': False, 'contains(operation)': False, 'contains(houston)': False, 'contains(guiler)': False, 'contains(sublte)': False, 'contains(newspaper)': False, 'contains(dick_)': False, 'contains(eddie)': False, 'contains(ulcer)': False, 'contains(fanatasies)': False, 'contains(tv2)': False, 'contains(emerich)': False, 'contains(caused)': False, 'contains(missy)': False, 'contains(marshals)': False, 'contains(jittery)': False, 'contains(dolly)': False, 'contains(hap)': False, 'contains(barbarino)': False, 'contains(insecurity)': False, 'contains(numeral)': False, 'contains(decorating)': False, 'contains(crotch)': False, 'contains(cherbourg)': False, 'contains(controversies)': False, 'contains(dwindling)': False, 'contains(cormack)': False, 'contains(buffed)': False, 'contains(committing)': False, 'contains(powaqqatsi)': False, 'contains(malevolent)': False, 'contains(insubordination)': False, 'contains(awards)': False, 'contains(visually)': False, 'contains(tvs)': False, 'contains(thailand)': False, 'contains(rejoin)': False, 'contains(sommerset)': False, 'contains(disheveled)': False, 'contains(seclusion)': False, 'contains(comedy)': True, 'contains(silva)': False, 'contains(hypnotist)': False, 'contains(scraggly)': False, 'contains(thai)': False, 'contains(terrorists)': False, 'contains(nebbish)': False, 'contains(documentarian)': False, 'contains(waterlogged)': False, 'contains(cynics)': False, 'contains(understands)': False, 'contains(jugs)': False, 'contains(boardroom)': False, 'contains(15th)': False, 'contains(subkoff)': False, 'contains(hab)': False, 'contains(24th)': False, 'contains(comely)': False, 'contains(dicks)': False, 'contains(copyrighted)': False, 'contains(paper)': False, 'contains(denny)': False, 'contains(leonardo)': False, 'contains(matsumoto)': False, 'contains(sane)': False, 'contains(intended)': False, 'contains(kaminsky)': False, 'contains(underbids)': False, 'contains(brides)': False, 'contains(retrograding)': False, 'contains(overpowering)': False, 'contains(depravity)': False, 'contains(tingles)': False, 'contains(multiracial)': False, 'contains(eighteen)': False, 'contains(flashback)': False, 'contains(homogeneity)': False, 'contains(knowingly)': False, 'contains(full)': False, 'contains(wcw)': False, 'contains(divine)': False, 'contains(pleasured)': False, 'contains(reverence)': False, 'contains(loca)': False, 'contains(suburbs)': False, 'contains(toothed)': False, 'contains(infect)': False, 'contains(greener)': False, 'contains(quicker)': False, 'contains(wane)': False, 'contains(video)': False, 'contains(catchy)': False, 'contains(service)': False, 'contains(\\\\)': False, 'contains(maclaine)': False, 'contains(associating)': False, 'contains(critter)': False, 'contains(pesimism)': False, 'contains(resonates)': False, 'contains(gooey)': False, 'contains(installed)': False, 'contains(exaggerations)': False, 'contains(dishearteningly)': False, 'contains(knocked)': False, 'contains(justly)': False, 'contains(intend)': False, 'contains(sans)': False, 'contains(illness)': False, 'contains(manga)': False, 'contains(menancing)': False, 'contains(otherworldly)': False, 'contains(existentialist)': False, 'contains(sickeningly)': False, 'contains(jerk)': False, 'contains(role)': False, 'contains(hasn)': False, 'contains(introspection)': False, 'contains(frizzi)': False, 'contains(triangles)': False, 'contains(parents)': False, 'contains(crookier)': False, 'contains(fakeouts)': False, 'contains(mat)': False, 'contains(indifference)': False, 'contains(prakazrel)': False, 'contains(spielbergization)': False, 'contains(33)': False, 'contains(chorus)': False, 'contains(ugh)': False, 'contains(tornatore)': False, 'contains(cleon)': False, 'contains(squirming)': False, 'contains(bogie)': False, 'contains(panicked)': False, 'contains(automats)': False, 'contains(rossi)': False, 'contains(festivities)': False, 'contains(lash)': False, 'contains(zzzzzzz)': False, 'contains(maxwell)': False, 'contains(readings)': False, 'contains(shoots)': False, 'contains(unabashedly)': False, 'contains(septic)': False, 'contains(riders)': False, 'contains(sooty)': False, 'contains(teck)': False, 'contains(disconnect)': False, 'contains(dubious)': False, 'contains(diminishing)': False, 'contains(dancefloor)': False, 'contains(adaptation)': False, 'contains(victor)': False, 'contains(oneness)': False, 'contains(plunges)': False, 'contains(healer)': False, 'contains(disdains)': False, 'contains(quiclky)': False, 'contains(anette)': False, 'contains(reiser)': False, 'contains(secular)': False, 'contains(fondled)': False, 'contains(911)': False, 'contains(jacki)': False, 'contains(leia)': False, 'contains(ogled)': False, 'contains(davidovitch)': False, 'contains(finklestein)': False, 'contains(undeterred)': False, 'contains(dwells)': False, 'contains(dentures)': False, 'contains(bringing)': False, 'contains(matchmakers)': False, 'contains(pleasures)': True, 'contains(freelance)': False, 'contains(slashfest)': False, 'contains(abbott)': False, 'contains(localized)': False, 'contains(liaisons)': False, 'contains(fit)': False, 'contains(trips)': False, 'contains(wreaked)': False, 'contains(next)': False, 'contains(theater)': False, 'contains(swigert)': False, 'contains(civilian)': False, 'contains(suppression)': False, 'contains(punts)': False, 'contains(charade)': False, 'contains(wordlessly)': False, 'contains(abuses)': False, 'contains(billboard)': False, 'contains(sextette)': False}\n"
     ]
    }
   ],
   "source": [
    "print(document_features(movie_reviews.words('pos/cv957_8737.txt')))"
   ]
  },
  {
   "cell_type": "code",
   "execution_count": 30,
   "metadata": {
    "collapsed": true
   },
   "outputs": [],
   "source": [
    "featuresets = [(document_features(d), c) for (d,c) in documents]\n",
    "train_set, test_set = featuresets[100:], featuresets[:100]\n",
    "classifier = nltk.NaiveBayesClassifier.train(train_set)"
   ]
  },
  {
   "cell_type": "code",
   "execution_count": 31,
   "metadata": {},
   "outputs": [
    {
     "name": "stdout",
     "output_type": "stream",
     "text": [
      "0.66\n"
     ]
    }
   ],
   "source": [
    "print(nltk.classify.accuracy(classifier, test_set))"
   ]
  },
  {
   "cell_type": "code",
   "execution_count": 32,
   "metadata": {},
   "outputs": [
    {
     "name": "stdout",
     "output_type": "stream",
     "text": [
      "Most Informative Features\n",
      "          contains(sans) = True              neg : pos    =      7.7 : 1.0\n",
      "  contains(effortlessly) = True              pos : neg    =      7.4 : 1.0\n",
      "    contains(cronenberg) = True              pos : neg    =      7.0 : 1.0\n",
      "     contains(dismissed) = True              pos : neg    =      7.0 : 1.0\n",
      "   contains(bruckheimer) = True              neg : pos    =      6.4 : 1.0\n"
     ]
    }
   ],
   "source": [
    " classifier.show_most_informative_features(5)"
   ]
  },
  {
   "cell_type": "code",
   "execution_count": 34,
   "metadata": {},
   "outputs": [
    {
     "name": "stdout",
     "output_type": "stream",
     "text": [
      "[nltk_data] Downloading package brown to /Users/Charon/nltk_data...\n",
      "[nltk_data]   Unzipping corpora/brown.zip.\n"
     ]
    }
   ],
   "source": [
    "from nltk.corpus import brown\n",
    "nltk.download('brown')\n",
    "suffix_fdist = nltk.FreqDist()\n",
    "for word in brown.words():\n",
    "     word = word.lower()\n",
    "     suffix_fdist[word[-1:]] += 1\n",
    "     suffix_fdist[word[-2:]] += 1\n",
    "     suffix_fdist[word[-3:]] += 1"
   ]
  },
  {
   "cell_type": "code",
   "execution_count": 35,
   "metadata": {},
   "outputs": [
    {
     "name": "stdout",
     "output_type": "stream",
     "text": [
      "[u'e', u',', u'.', u's', u'd', u't', u'he', u'n', u'a', u'of', u'the', u'y', u'r', u'to', u'in', u'f', u'o', u'ed', u'nd', u'is', u'on', u'l', u'g', u'and', u'ng', u'er', u'as', u'ing', u'h', u'at', u'es', u'or', u're', u'it', u'``', u'an', u\"''\", u'm', u';', u'i', u'ly', u'ion', u'en', u'al', u'?', u'nt', u'be', u'hat', u'st', u'his', u'th', u'll', u'le', u'ce', u'by', u'ts', u'me', u've', u\"'\", u'se', u'ut', u'was', u'for', u'ent', u'ch', u'k', u'w', u'ld', u'`', u'rs', u'ted', u'ere', u'her', u'ne', u'ns', u'ith', u'ad', u'ry', u')', u'(', u'te', u'--', u'ay', u'ty', u'ot', u'p', u'nce', u\"'s\", u'ter', u'om', u'ss', u':', u'we', u'are', u'c', u'ers', u'uld', u'had', u'so', u'ey']\n"
     ]
    }
   ],
   "source": [
    "common_suffixes = [suffix for (suffix, count) in suffix_fdist.most_common(100)]\n",
    "print(common_suffixes)"
   ]
  },
  {
   "cell_type": "code",
   "execution_count": 36,
   "metadata": {
    "collapsed": true
   },
   "outputs": [],
   "source": [
    "def pos_features(word):\n",
    "     features = {}\n",
    "     for suffix in common_suffixes:\n",
    "         features['endswith({})'.format(suffix)] = word.lower().endswith(suffix)\n",
    "     return features"
   ]
  },
  {
   "cell_type": "code",
   "execution_count": 37,
   "metadata": {
    "collapsed": true
   },
   "outputs": [],
   "source": [
    "tagged_words = brown.tagged_words(categories='news')\n",
    "featuresets = [(pos_features(n), g) for (n,g) in tagged_words]"
   ]
  },
  {
   "cell_type": "code",
   "execution_count": 41,
   "metadata": {
    "collapsed": true
   },
   "outputs": [],
   "source": [
    "size = int(len(featuresets) * 0.1)\n",
    "train_set, test_set = featuresets[size:], featuresets[:size]"
   ]
  },
  {
   "cell_type": "code",
   "execution_count": null,
   "metadata": {
    "collapsed": true
   },
   "outputs": [],
   "source": [
    "classifier = nltk.DecisionTreeClassifier.train(train_set)\n",
    "nltk.classify.accuracy(classifier, test_set)"
   ]
  },
  {
   "cell_type": "code",
   "execution_count": null,
   "metadata": {
    "collapsed": true
   },
   "outputs": [],
   "source": [
    "classifier.classify(pos_features('cats'))"
   ]
  },
  {
   "cell_type": "code",
   "execution_count": null,
   "metadata": {
    "collapsed": true
   },
   "outputs": [],
   "source": [
    "print(classifier.pseudocode(depth=4))"
   ]
  },
  {
   "cell_type": "code",
   "execution_count": 45,
   "metadata": {
    "collapsed": true
   },
   "outputs": [],
   "source": [
    "def pos_features(sentence, i):\n",
    "    features = {\"suffix(1)\": sentence[i][-1:],\n",
    "                \"suffix(2)\": sentence[i][-2:],\n",
    "                \"suffix(3)\": sentence[i][-3:]}\n",
    "    if i == 0:\n",
    "        features[\"prev-word\"] = \"<START>\"\n",
    "    else:\n",
    "        features[\"prev-word\"] = sentence[i-1]\n",
    "    return features"
   ]
  },
  {
   "cell_type": "code",
   "execution_count": 46,
   "metadata": {},
   "outputs": [
    {
     "data": {
      "text/plain": [
       "{'prev-word': u'an',\n",
       " 'suffix(1)': u'n',\n",
       " 'suffix(2)': u'on',\n",
       " 'suffix(3)': u'ion'}"
      ]
     },
     "execution_count": 46,
     "metadata": {},
     "output_type": "execute_result"
    }
   ],
   "source": [
    "pos_features(brown.sents()[0], 8)"
   ]
  },
  {
   "cell_type": "code",
   "execution_count": 47,
   "metadata": {},
   "outputs": [
    {
     "data": {
      "text/plain": [
       "0.7891596220785678"
      ]
     },
     "execution_count": 47,
     "metadata": {},
     "output_type": "execute_result"
    }
   ],
   "source": [
    "tagged_sents = brown.tagged_sents(categories='news')\n",
    "featuresets = []\n",
    "for tagged_sent in tagged_sents:\n",
    "     untagged_sent = nltk.tag.untag(tagged_sent)\n",
    "     for i, (word, tag) in enumerate(tagged_sent):\n",
    "         featuresets.append( (pos_features(untagged_sent, i), tag) )\n",
    "\n",
    "size = int(len(featuresets) * 0.1)\n",
    "train_set, test_set = featuresets[size:], featuresets[:size]\n",
    "classifier = nltk.NaiveBayesClassifier.train(train_set)\n",
    "\n",
    "nltk.classify.accuracy(classifier, test_set)"
   ]
  },
  {
   "cell_type": "code",
   "execution_count": 48,
   "metadata": {
    "collapsed": true
   },
   "outputs": [],
   "source": [
    "def pos_features(sentence, i, history):\n",
    "     features = {\"suffix(1)\": sentence[i][-1:],\n",
    "                 \"suffix(2)\": sentence[i][-2:],\n",
    "                 \"suffix(3)\": sentence[i][-3:]}\n",
    "     if i == 0:\n",
    "         features[\"prev-word\"] = \"<START>\"\n",
    "         features[\"prev-tag\"] = \"<START>\"\n",
    "     else:\n",
    "         features[\"prev-word\"] = sentence[i-1]\n",
    "         features[\"prev-tag\"] = history[i-1]\n",
    "     return features\n",
    "\n",
    "class ConsecutivePosTagger(nltk.TaggerI):\n",
    "\n",
    "    def __init__(self, train_sents):\n",
    "        train_set = []\n",
    "        for tagged_sent in train_sents:\n",
    "            untagged_sent = nltk.tag.untag(tagged_sent)\n",
    "            history = []\n",
    "            for i, (word, tag) in enumerate(tagged_sent):\n",
    "                featureset = pos_features(untagged_sent, i, history)\n",
    "                train_set.append( (featureset, tag) )\n",
    "                history.append(tag)\n",
    "        self.classifier = nltk.NaiveBayesClassifier.train(train_set)\n",
    "\n",
    "    def tag(self, sentence):\n",
    "        history = []\n",
    "        for i, word in enumerate(sentence):\n",
    "            featureset = pos_features(sentence, i, history)\n",
    "            tag = self.classifier.classify(featureset)\n",
    "            history.append(tag)\n",
    "        return zip(sentence, history)"
   ]
  },
  {
   "cell_type": "code",
   "execution_count": 49,
   "metadata": {},
   "outputs": [
    {
     "name": "stdout",
     "output_type": "stream",
     "text": [
      "0.798052851182\n"
     ]
    }
   ],
   "source": [
    "tagged_sents = brown.tagged_sents(categories='news')\n",
    "size = int(len(tagged_sents) * 0.1)\n",
    "train_sents, test_sents = tagged_sents[size:], tagged_sents[:size]\n",
    "tagger = ConsecutivePosTagger(train_sents)\n",
    "print(tagger.evaluate(test_sents))"
   ]
  },
  {
   "cell_type": "code",
   "execution_count": 52,
   "metadata": {},
   "outputs": [
    {
     "name": "stdout",
     "output_type": "stream",
     "text": [
      "[nltk_data] Downloading package treebank to /Users/Charon/nltk_data...\n",
      "[nltk_data]   Package treebank is already up-to-date!\n",
      "[nltk_data] Downloading package punkt to /Users/Charon/nltk_data...\n",
      "[nltk_data]   Unzipping tokenizers/punkt.zip.\n"
     ]
    }
   ],
   "source": [
    "nltk.download('treebank')\n",
    "nltk.download('punkt')\n",
    "sents = nltk.corpus.treebank_raw.sents()\n",
    "tokens = []\n",
    "boundaries = set()\n",
    "offset = 0\n",
    "for sent in sents:\n",
    "     tokens.extend(sent)\n",
    "     offset += len(sent)\n",
    "     boundaries.add(offset-1)"
   ]
  },
  {
   "cell_type": "code",
   "execution_count": 53,
   "metadata": {
    "collapsed": true
   },
   "outputs": [],
   "source": [
    "def punct_features(tokens, i):\n",
    "     return {'next-word-capitalized': tokens[i+1][0].isupper(),\n",
    "             'prev-word': tokens[i-1].lower(),\n",
    "             'punct': tokens[i],\n",
    "             'prev-word-is-one-char': len(tokens[i-1]) == 1}\n"
   ]
  },
  {
   "cell_type": "code",
   "execution_count": 54,
   "metadata": {
    "collapsed": true
   },
   "outputs": [],
   "source": [
    "featuresets = [(punct_features(tokens, i), (i in boundaries))\n",
    "                for i in range(1, len(tokens)-1)\n",
    "                if tokens[i] in '.?!']"
   ]
  },
  {
   "cell_type": "code",
   "execution_count": 55,
   "metadata": {},
   "outputs": [
    {
     "data": {
      "text/plain": [
       "0.936026936026936"
      ]
     },
     "execution_count": 55,
     "metadata": {},
     "output_type": "execute_result"
    }
   ],
   "source": [
    "size = int(len(featuresets) * 0.1)\n",
    "train_set, test_set = featuresets[size:], featuresets[:size]\n",
    "classifier = nltk.NaiveBayesClassifier.train(train_set)\n",
    "nltk.classify.accuracy(classifier, test_set)"
   ]
  },
  {
   "cell_type": "code",
   "execution_count": 58,
   "metadata": {},
   "outputs": [
    {
     "name": "stdout",
     "output_type": "stream",
     "text": [
      "[nltk_data] Downloading package nps_chat to /Users/Charon/nltk_data...\n",
      "[nltk_data]   Unzipping corpora/nps_chat.zip.\n"
     ]
    }
   ],
   "source": [
    " nltk.download('nps_chat')\n",
    "def segment_sentences(words):\n",
    "    start = 0\n",
    "    sents = []\n",
    "    for i, word in enumerate(words):\n",
    "        if word in '.?!' and classifier.classify(punct_features(words, i)) == True:\n",
    "            sents.append(words[start:i+1])\n",
    "            start = i+1\n",
    "    if start < len(words):\n",
    "        sents.append(words[start:])\n",
    "    return sents"
   ]
  },
  {
   "cell_type": "code",
   "execution_count": 59,
   "metadata": {
    "collapsed": true
   },
   "outputs": [],
   "source": [
    " posts = nltk.corpus.nps_chat.xml_posts()[:10000]"
   ]
  },
  {
   "cell_type": "code",
   "execution_count": 61,
   "metadata": {
    "collapsed": true
   },
   "outputs": [],
   "source": [
    "def dialogue_act_features(post):\n",
    "     features = {}\n",
    "     for word in nltk.word_tokenize(post):\n",
    "         features['contains({})'.format(word.lower())] = True\n",
    "     return features"
   ]
  },
  {
   "cell_type": "code",
   "execution_count": 62,
   "metadata": {},
   "outputs": [
    {
     "name": "stdout",
     "output_type": "stream",
     "text": [
      "0.668\n"
     ]
    }
   ],
   "source": [
    "featuresets = [(dialogue_act_features(post.text), post.get('class'))\n",
    "                for post in posts]\n",
    "size = int(len(featuresets) * 0.1)\n",
    "train_set, test_set = featuresets[size:], featuresets[:size]\n",
    "classifier = nltk.NaiveBayesClassifier.train(train_set)\n",
    "print(nltk.classify.accuracy(classifier, test_set))"
   ]
  },
  {
   "cell_type": "code",
   "execution_count": 63,
   "metadata": {
    "collapsed": true
   },
   "outputs": [],
   "source": [
    "def rte_features(rtepair):\n",
    "    extractor = nltk.RTEFeatureExtractor(rtepair)\n",
    "    features = {}\n",
    "    features['word_overlap'] = len(extractor.overlap('word'))\n",
    "    features['word_hyp_extra'] = len(extractor.hyp_extra('word'))\n",
    "    features['ne_overlap'] = len(extractor.overlap('ne'))\n",
    "    features['ne_hyp_extra'] = len(extractor.hyp_extra('ne'))\n",
    "    return features"
   ]
  },
  {
   "cell_type": "code",
   "execution_count": 66,
   "metadata": {},
   "outputs": [
    {
     "name": "stdout",
     "output_type": "stream",
     "text": [
      "[nltk_data] Downloading package rte to /Users/Charon/nltk_data...\n",
      "[nltk_data]   Package rte is already up-to-date!\n"
     ]
    }
   ],
   "source": [
    "nltk.download('rte')\n",
    "rtepair = nltk.corpus.rte.pairs(['rte3_dev.xml'])[33]\n",
    "extractor = nltk.RTEFeatureExtractor(rtepair)"
   ]
  },
  {
   "cell_type": "code",
   "execution_count": 67,
   "metadata": {},
   "outputs": [
    {
     "name": "stdout",
     "output_type": "stream",
     "text": [
      "set(['Organisation', 'Shanghai', 'Asia', 'four', 'at', 'operation', 'SCO', 'Iran', 'Soviet', 'Davudi', 'fight', 'China', 'association', 'fledgling', 'was', 'that', 'republics', 'former', 'Co', 'representing', 'Russia', 'Parviz', 'central', 'meeting', 'together', 'binds', 'terrorism.'])\n"
     ]
    }
   ],
   "source": [
    "print(extractor.text_words)"
   ]
  },
  {
   "cell_type": "code",
   "execution_count": 68,
   "metadata": {},
   "outputs": [
    {
     "name": "stdout",
     "output_type": "stream",
     "text": [
      "set(['member', 'SCO.', 'China'])\n"
     ]
    }
   ],
   "source": [
    "print(extractor.hyp_words)"
   ]
  },
  {
   "cell_type": "code",
   "execution_count": 69,
   "metadata": {},
   "outputs": [
    {
     "name": "stdout",
     "output_type": "stream",
     "text": [
      "set([])\n"
     ]
    }
   ],
   "source": [
    "print(extractor.overlap('word'))"
   ]
  },
  {
   "cell_type": "code",
   "execution_count": 70,
   "metadata": {},
   "outputs": [
    {
     "name": "stdout",
     "output_type": "stream",
     "text": [
      "set(['China'])\n"
     ]
    }
   ],
   "source": [
    "print(extractor.overlap('ne'))"
   ]
  },
  {
   "cell_type": "code",
   "execution_count": 71,
   "metadata": {},
   "outputs": [
    {
     "name": "stdout",
     "output_type": "stream",
     "text": [
      "set(['member'])\n"
     ]
    }
   ],
   "source": [
    "print(extractor.hyp_extra('word'))"
   ]
  },
  {
   "cell_type": "code",
   "execution_count": 72,
   "metadata": {
    "collapsed": true
   },
   "outputs": [],
   "source": [
    "import random\n",
    "from nltk.corpus import brown\n",
    "tagged_sents = list(brown.tagged_sents(categories='news'))\n",
    "random.shuffle(tagged_sents)\n",
    "size = int(len(tagged_sents) * 0.1)\n",
    "train_set, test_set = tagged_sents[size:], tagged_sents[:size]"
   ]
  },
  {
   "cell_type": "code",
   "execution_count": 73,
   "metadata": {
    "collapsed": true
   },
   "outputs": [],
   "source": [
    "file_ids = brown.fileids(categories='news')\n",
    "size = int(len(file_ids) * 0.1)\n",
    "train_set = brown.tagged_sents(file_ids[size:])\n",
    "test_set = brown.tagged_sents(file_ids[:size])"
   ]
  },
  {
   "cell_type": "code",
   "execution_count": 74,
   "metadata": {
    "collapsed": true
   },
   "outputs": [],
   "source": [
    "train_set = brown.tagged_sents(categories='news')\n",
    "test_set = brown.tagged_sents(categories='fiction')"
   ]
  },
  {
   "cell_type": "code",
   "execution_count": 83,
   "metadata": {},
   "outputs": [
    {
     "name": "stdout",
     "output_type": "stream",
     "text": [
      "    |                                         N                      |\n",
      "    |      N      I      A      J             N             V      N |\n",
      "    |      N      N      T      J      .      S      ,      B      P |\n",
      "----+----------------------------------------------------------------+\n",
      " NN | <11.9%>  0.0%      .   0.1%      .      .      .   0.3%   0.0% |\n",
      " IN |      .  <8.9%>     .      .      .   0.0%      .      .      . |\n",
      " AT |      .      .  <8.6%>     .      .      .      .      .      . |\n",
      " JJ |   0.1%   0.0%      .  <5.7%>     .      .      .   0.0%   0.0% |\n",
      "  . |      .      .      .      .  <4.8%>     .      .      .      . |\n",
      "NNS |      .      .      .      .      .  <4.8%>     .      .   0.0% |\n",
      "  , |      .      .      .      .      .      .  <4.4%>     .      . |\n",
      " VB |   0.3%      .      .   0.0%      .      .      .  <3.0%>     . |\n",
      " NP |   0.0%      .      .   0.0%      .      .      .      .  <2.9%>|\n",
      "----+----------------------------------------------------------------+\n",
      "(row = reference; col = test)\n",
      "\n"
     ]
    }
   ],
   "source": [
    "def tag_list(tagged_sents):\n",
    "     return [tag for sent in tagged_sents for (word, tag) in sent]\n",
    "def apply_tagger(tagger, corpus):\n",
    "     return [tagger.tag(nltk.tag.untag(sent)) for sent in corpus]\n",
    "t2 = nltk.UnigramTagger(brown.tagged_sents(categories='editorial'))\n",
    "gold = tag_list(brown.tagged_sents(categories='editorial'))\n",
    "test = tag_list(apply_tagger(t2 , brown.tagged_sents(categories='editorial')))\n",
    "cm = nltk.ConfusionMatrix(gold, test)\n",
    "print(cm.pretty_format(sort_by_count=True, show_percents=True, truncate=9))"
   ]
  },
  {
   "cell_type": "code",
   "execution_count": 84,
   "metadata": {
    "collapsed": true
   },
   "outputs": [],
   "source": [
    "import math\n",
    "def entropy(labels):\n",
    "    freqdist = nltk.FreqDist(labels)\n",
    "    probs = [freqdist.freq(l) for l in freqdist]\n",
    "    return -sum(p * math.log(p,2) for p in probs)"
   ]
  },
  {
   "cell_type": "code",
   "execution_count": 85,
   "metadata": {},
   "outputs": [
    {
     "name": "stdout",
     "output_type": "stream",
     "text": [
      "-0.0\n"
     ]
    }
   ],
   "source": [
    "print(entropy(['male', 'male', 'male', 'male']))"
   ]
  },
  {
   "cell_type": "code",
   "execution_count": 86,
   "metadata": {},
   "outputs": [
    {
     "name": "stdout",
     "output_type": "stream",
     "text": [
      "0.811278124459\n"
     ]
    }
   ],
   "source": [
    "print(entropy(['male', 'female', 'male', 'male']))"
   ]
  },
  {
   "cell_type": "code",
   "execution_count": 87,
   "metadata": {},
   "outputs": [
    {
     "name": "stdout",
     "output_type": "stream",
     "text": [
      "1.0\n"
     ]
    }
   ],
   "source": [
    "print(entropy(['female', 'male', 'female', 'male']))"
   ]
  },
  {
   "cell_type": "code",
   "execution_count": 88,
   "metadata": {},
   "outputs": [
    {
     "name": "stdout",
     "output_type": "stream",
     "text": [
      "0.811278124459\n"
     ]
    }
   ],
   "source": [
    "print(entropy(['female', 'female', 'male', 'female']))"
   ]
  },
  {
   "cell_type": "code",
   "execution_count": 89,
   "metadata": {},
   "outputs": [
    {
     "name": "stdout",
     "output_type": "stream",
     "text": [
      "-0.0\n"
     ]
    }
   ],
   "source": [
    "print(entropy(['female', 'female', 'female', 'female'])) "
   ]
  },
  {
   "cell_type": "code",
   "execution_count": null,
   "metadata": {
    "collapsed": true
   },
   "outputs": [],
   "source": []
  }
 ],
 "metadata": {
  "kernelspec": {
   "display_name": "Python 2",
   "language": "python",
   "name": "python2"
  },
  "language_info": {
   "codemirror_mode": {
    "name": "ipython",
    "version": 2
   },
   "file_extension": ".py",
   "mimetype": "text/x-python",
   "name": "python",
   "nbconvert_exporter": "python",
   "pygments_lexer": "ipython2",
   "version": "2.7.13"
  }
 },
 "nbformat": 4,
 "nbformat_minor": 2
}
